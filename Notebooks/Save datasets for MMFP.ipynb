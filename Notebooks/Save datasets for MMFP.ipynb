{
 "cells": [
  {
   "cell_type": "code",
   "execution_count": 2,
   "id": "bc3570bf",
   "metadata": {},
   "outputs": [],
   "source": [
    "import sys\n",
    "import os\n",
    "import pickle\n",
    "import re"
   ]
  },
  {
   "cell_type": "code",
   "execution_count": 6,
   "id": "7098abde",
   "metadata": {},
   "outputs": [],
   "source": [
    "src_path = os.path.abspath(os.path.join(os.getcwd(), '../src'))\n",
    "if src_path not in sys.path:\n",
    "    sys.path.insert(0, src_path)\n",
    "\n",
    "import utils as ut"
   ]
  },
  {
   "cell_type": "code",
   "execution_count": 15,
   "id": "3550f13b",
   "metadata": {},
   "outputs": [],
   "source": [
    "place = 'Florence, Italy' #Only the city name can alternatively be used\n",
    "g = ut.get_nx_from_ox(place)"
   ]
  },
  {
   "cell_type": "code",
   "execution_count": 16,
   "id": "24120495",
   "metadata": {},
   "outputs": [],
   "source": [
    "name = re.sub(r'[^\\w\\-_.]', '_', place)\n",
    "filename = f'{name}.pkl'\n",
    "\n",
    "filepath = os.path.join('../Datasets', filename)\n",
    "\n",
    "# Save the graph\n",
    "with open(filepath, 'wb') as f:\n",
    "    pickle.dump(g, f)"
   ]
  },
  {
   "cell_type": "code",
   "execution_count": null,
   "id": "42fa9fe8",
   "metadata": {},
   "outputs": [],
   "source": []
  }
 ],
 "metadata": {
  "kernelspec": {
   "display_name": "Python 3 (ipykernel)",
   "language": "python",
   "name": "python3"
  },
  "language_info": {
   "codemirror_mode": {
    "name": "ipython",
    "version": 3
   },
   "file_extension": ".py",
   "mimetype": "text/x-python",
   "name": "python",
   "nbconvert_exporter": "python",
   "pygments_lexer": "ipython3",
   "version": "3.11.5"
  }
 },
 "nbformat": 4,
 "nbformat_minor": 5
}
