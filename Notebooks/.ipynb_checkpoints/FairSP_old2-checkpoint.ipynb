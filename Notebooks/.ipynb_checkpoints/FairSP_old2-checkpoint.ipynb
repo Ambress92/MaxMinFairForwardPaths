{
 "cells": [
  {
   "cell_type": "code",
   "execution_count": 81,
   "id": "34b3a96e-b879-4cf3-970d-11d34d9c1df2",
   "metadata": {},
   "outputs": [],
   "source": [
    "import graph_tool.collection \n",
    "import graph_tool.search \n",
    "import graph_tool as gt\n",
    "import random\n",
    "import numpy as np\n",
    "import zstandard\n",
    "import networkx as nx\n",
    "import copy"
   ]
  },
  {
   "cell_type": "code",
   "execution_count": 82,
   "id": "3b304a41-c70c-43c4-acb6-b4b336878e71",
   "metadata": {},
   "outputs": [
    {
     "name": "stdout",
     "output_type": "stream",
     "text": [
      "/home/aferrara/FairShortPath\n"
     ]
    }
   ],
   "source": [
    "!pwd"
   ]
  },
  {
   "cell_type": "code",
   "execution_count": 83,
   "id": "cc37f419-51fa-4b68-a2f0-042043e676d3",
   "metadata": {},
   "outputs": [
    {
     "name": "stdout",
     "output_type": "stream",
     "text": [
      "Number of nodes: 369\n",
      "Number of edges: 441\n"
     ]
    }
   ],
   "source": [
    "def load_graph_from_file(filename):\n",
    "    graph = gt.Graph(directed=True)\n",
    "    weight_prop = graph.new_edge_property(\"double\")\n",
    "\n",
    "    # Dictionary to store mapping from node IDs to graph vertex objects\n",
    "    node_mapping = {}\n",
    "\n",
    "    with open(filename, 'r') as file:\n",
    "        for line in file:\n",
    "            parts = line.strip().split()\n",
    "\n",
    "            if parts[0] == 'p':\n",
    "                # Parse the number of nodes and arcs\n",
    "                num_nodes = int(parts[2])\n",
    "                num_arcs = int(parts[3])\n",
    "            elif parts[0] == 'a':\n",
    "                # Parse the arc information\n",
    "                source = int(parts[1]) - 1  # Subtract 1 to make it zero-indexed\n",
    "                target = int(parts[2]) - 1\n",
    "                weight = np.double(parts[3])\n",
    "\n",
    "                # Add vertices and edge to the graph\n",
    "                if source not in node_mapping:\n",
    "                    node_mapping[source] = graph.add_vertex()\n",
    "                if target not in node_mapping:\n",
    "                    node_mapping[target] = graph.add_vertex()\n",
    "\n",
    "                edge = graph.add_edge(node_mapping[source], node_mapping[target])\n",
    "                weight_prop[edge] = weight\n",
    "    \n",
    "    graph.edge_properties[\"weight\"] = weight_prop\n",
    "    return graph\n",
    "\n",
    "# Load the graph from file\n",
    "filename = 'data/USA-road-d.NY.gr'\n",
    "qqq = load_graph_from_file(filename)\n",
    "\n",
    "print(\"Number of nodes:\", g.num_vertices())\n",
    "print(\"Number of edges:\", g.num_edges())\n"
   ]
  },
  {
   "cell_type": "code",
   "execution_count": 84,
   "id": "84ab2e27-9db6-47b9-9e05-3d1c8ed4ff9f",
   "metadata": {},
   "outputs": [],
   "source": [
    "#openflights,chicago_road, london_transport"
   ]
  },
  {
   "cell_type": "code",
   "execution_count": 85,
   "id": "b62a4d43-29a0-44e2-b1d5-ea0e41047779",
   "metadata": {},
   "outputs": [
    {
     "name": "stdout",
     "output_type": "stream",
     "text": [
      "{'weight': <EdgePropertyMap object with value type 'int16_t', for Graph 0x7f8af8106e50, at 0x7f8a4af28d90>, 'layer': <EdgePropertyMap object with value type 'int16_t', for Graph 0x7f8af8106e50, at 0x7f8a4af28590>}\n"
     ]
    }
   ],
   "source": [
    "g = gt.collection.ns[\"openflights\"]\n",
    "print(g.edge_properties)"
   ]
  },
  {
   "cell_type": "code",
   "execution_count": 86,
   "id": "59e3e90c-c6d0-42a9-99c9-6974de30dff5",
   "metadata": {},
   "outputs": [],
   "source": [
    "if not g.edge_properties:\n",
    "    weights = g.new_edge_property(\"double\")\n",
    "    weights.set_value(1.0)  # Set all values to 1.0\n",
    "    g.edge_properties[\"weight\"] = weights\n",
    "    print(g.edge_properties)"
   ]
  },
  {
   "cell_type": "code",
   "execution_count": 87,
   "id": "44af5e55-fa1d-490c-ac91-d60989cd5268",
   "metadata": {},
   "outputs": [
    {
     "name": "stdout",
     "output_type": "stream",
     "text": [
      "Edge: (0, 1) weight: 1\n",
      "Edge: (0, 352) weight: 1\n",
      "Edge: (1, 77) weight: 2\n",
      "Edge: (1, 106) weight: 1\n",
      "Edge: (1, 219) weight: 1\n"
     ]
    }
   ],
   "source": [
    "if \"weight\" in g.edge_properties:\n",
    "    layer_property = g.edge_properties[\"weight\"]\n",
    "    for i,e in enumerate(g.edges()):\n",
    "        if i >= 5:\n",
    "            break\n",
    "        print(\"Edge:\", e, \"weight:\", layer_property[e])"
   ]
  },
  {
   "cell_type": "code",
   "execution_count": 88,
   "id": "c2ff06e1-a3e4-4bb4-9506-d66f21331e1b",
   "metadata": {},
   "outputs": [],
   "source": [
    "def from_gt_to_nx(g, wgt = \"distance\"):\n",
    "    g_nx = nx.DiGraph()\n",
    "    \n",
    "    for v in g.vertices():\n",
    "        g_nx.add_node(int(v))\n",
    "    \n",
    "    for e in g.edges():\n",
    "        source = int(e.source())\n",
    "        target = int(e.target())\n",
    "        weight = g.ep[wgt][e]  \n",
    "        g_nx.add_edge(source, target, weight=weight)\n",
    "        #g_nx.add_edge(target, source, weight=weight) #if undirected graph\n",
    "    return(g_nx)"
   ]
  },
  {
   "cell_type": "code",
   "execution_count": 89,
   "id": "adbfe93d-058a-4fc0-ba0b-786371ef319b",
   "metadata": {},
   "outputs": [],
   "source": [
    "g_nx = from_gt_to_nx(g, wgt = \"distance\")"
   ]
  },
  {
   "cell_type": "code",
   "execution_count": 90,
   "id": "542075a0-0f3d-4179-8c3f-7776299e885a",
   "metadata": {},
   "outputs": [],
   "source": [
    "#average_shortest_path_length = nx.average_shortest_path_length(g_nx, weight='weight', method=None)\n",
    "#print(\"Average shortest path length:\", average_shortest_path_length)"
   ]
  },
  {
   "cell_type": "code",
   "execution_count": 91,
   "id": "5a2e941b-e214-442f-8bc6-3b733d30fff4",
   "metadata": {},
   "outputs": [],
   "source": [
    "#len([x for x in g.edge_properties[\"weight\"]])"
   ]
  },
  {
   "cell_type": "code",
   "execution_count": 92,
   "id": "a5f4b785-9350-431a-80a6-f58961e1d14d",
   "metadata": {},
   "outputs": [],
   "source": [
    "weights = g.edge_properties[\"distance\"]"
   ]
  },
  {
   "cell_type": "code",
   "execution_count": 93,
   "id": "e5b0361c-e320-468b-97db-a31cba0dcba5",
   "metadata": {},
   "outputs": [],
   "source": [
    "np.random.seed(42)\n",
    "\n",
    "k = 20\n",
    "\n",
    "nodes = list(g.vertices())\n",
    "\n",
    "sampled_src = random.choices(nodes, k=k)\n",
    "sampled_indices_src = [int(v) for v in sampled_src]\n",
    "\n",
    "sampled_tar = random.choices(nodes, k=k)\n",
    "sampled_indices_tar = [int(v) for v in sampled_tar]\n",
    "\n",
    "def avg_short_path(g, weights, sampled_indices_src, sampled_indices_tar):\n",
    "    lst = []\n",
    "    num_nodes_sp = []\n",
    "    inf_counter = 0\n",
    "    for i in range(len(sampled_indices_src)):\n",
    "        dist, pred = gt.search.dijkstra_search(g, source = sampled_indices_src[i], weight=weights)\n",
    "        temp = dist[sampled_indices_tar[i]]\n",
    "\n",
    "        if temp < np.inf:\n",
    "            lst.append(temp)\n",
    "\n",
    "            shortest_path = []\n",
    "            current = sampled_indices_tar[i]\n",
    "            while current != sampled_indices_src[i]:\n",
    "                shortest_path.append(current)\n",
    "                current = pred[current]\n",
    "            shortest_path.append(sampled_indices_src[i])\n",
    "            shortest_path.reverse()\n",
    "            num_nodes_sp.append(len(shortest_path))\n",
    "            print(len(shortest_path))\n",
    "        else:\n",
    "            inf_counter += 1 \n",
    "            print(sampled_indices_src[i], sampled_indices_tar[i])\n",
    "        \n",
    "    print('unreachable targets:', inf_counter)\n",
    "        \n",
    "    return lst,num_nodes_sp\n",
    "\n"
   ]
  },
  {
   "cell_type": "code",
   "execution_count": 94,
   "id": "01bcc336-9e89-4de6-9457-47f5d4a75c59",
   "metadata": {},
   "outputs": [
    {
     "name": "stdout",
     "output_type": "stream",
     "text": [
      "10\n",
      "8\n",
      "17\n",
      "24\n",
      "12\n",
      "11\n",
      "18\n",
      "14\n",
      "8\n",
      "11\n",
      "13\n",
      "22\n",
      "13\n",
      "27\n",
      "7\n",
      "16\n",
      "17\n",
      "7\n",
      "24\n",
      "11\n",
      "unreachable targets: 0\n",
      "CPU times: user 52.5 ms, sys: 5 µs, total: 52.5 ms\n",
      "Wall time: 51.5 ms\n"
     ]
    }
   ],
   "source": [
    "%%time\n",
    "avg_sp,num_nodes_sp = avg_short_path(g, weights, sampled_indices_src, sampled_indices_tar)"
   ]
  },
  {
   "cell_type": "code",
   "execution_count": 95,
   "id": "e8cf96e5-c716-437d-96c4-8f5e879da4d8",
   "metadata": {},
   "outputs": [
    {
     "name": "stdout",
     "output_type": "stream",
     "text": [
      "14.5 5.852349955359813\n"
     ]
    }
   ],
   "source": [
    "print(np.mean(num_nodes_sp),np.std(num_nodes_sp))"
   ]
  },
  {
   "cell_type": "code",
   "execution_count": 96,
   "id": "ba199b43-fe70-43a0-84b2-2faeb15f3a70",
   "metadata": {},
   "outputs": [
    {
     "name": "stdout",
     "output_type": "stream",
     "text": [
      "14.35 6.035519861619212\n"
     ]
    }
   ],
   "source": [
    "print(np.mean(avg_sp),np.std(avg_sp))"
   ]
  },
  {
   "cell_type": "code",
   "execution_count": 97,
   "id": "d19d7a3d-2ff1-4916-9d61-a53e3900c358",
   "metadata": {},
   "outputs": [],
   "source": [
    "dist_dict = nx.shortest_path_length(g_nx, source=None, target=10, weight='weight', method='dijkstra')"
   ]
  },
  {
   "cell_type": "code",
   "execution_count": 98,
   "id": "b92c4b87-c1f9-4112-ac41-12626acb7080",
   "metadata": {},
   "outputs": [],
   "source": [
    "def remove_edges_based_on_scores(graph, dist_dict):\n",
    "    edges_to_remove = []\n",
    "    for node in graph.nodes():\n",
    "        try:\n",
    "            node_score = dist_dict[node]\n",
    "            for neighbor in graph.neighbors(node):\n",
    "                try:\n",
    "                    neighbor_score = dist_dict[neighbor]\n",
    "                except KeyError: \n",
    "                    neighbor_score = np.inf\n",
    "                if neighbor_score >= node_score:\n",
    "                    edges_to_remove.append((node, neighbor))\n",
    "        except KeyError:\n",
    "            continue\n",
    "    for edge in edges_to_remove:\n",
    "        graph.remove_edge(*edge)\n",
    "\n",
    "G_copy = copy.deepcopy(g_nx)\n",
    "\n",
    "remove_edges_based_on_scores(G_copy, dist_dict)"
   ]
  },
  {
   "cell_type": "code",
   "execution_count": 99,
   "id": "0ceff123-b02a-4eac-bd8f-090f95e2d5c8",
   "metadata": {},
   "outputs": [
    {
     "data": {
      "text/plain": [
       "(398, 860)"
      ]
     },
     "execution_count": 99,
     "metadata": {},
     "output_type": "execute_result"
    }
   ],
   "source": [
    "len(G_copy.edges()),len(g_nx.edges())"
   ]
  },
  {
   "cell_type": "code",
   "execution_count": 100,
   "id": "e16a25a1-acbd-499c-b4bb-29bf982b8ee4",
   "metadata": {},
   "outputs": [],
   "source": [
    "#G_copy.edges(data=True)"
   ]
  },
  {
   "cell_type": "code",
   "execution_count": 101,
   "id": "6dbc6d7e-6531-48c2-877c-a42adea3d8c0",
   "metadata": {},
   "outputs": [],
   "source": [
    "def neg_edge_weights(graph):\n",
    "    for source, target, data in graph.edges(data=True):\n",
    "        if 'weight' not in data:\n",
    "            raise ValueError(f\"No weight attribute found for edge ({source}, {target})\")\n",
    "        data['weight'] = -data['weight']\n",
    "\n",
    "neg_edge_weights(G_copy)\n",
    "#G_copy.edges(data=True)"
   ]
  },
  {
   "cell_type": "code",
   "execution_count": 102,
   "id": "2b1a9695-0d66-4908-86c6-2b2bed0dc6bf",
   "metadata": {},
   "outputs": [],
   "source": [
    "#nx.shortest_path_length(G_copy, source=2668, target=1074, weight='weight', method='dijkstra')"
   ]
  },
  {
   "cell_type": "code",
   "execution_count": 103,
   "id": "2ee01cca-7dac-475e-8306-738fe42d9dd3",
   "metadata": {},
   "outputs": [],
   "source": [
    "#nx.dijkstra_path_length(G_copy, source=2668, target=1074, weight='weight')"
   ]
  },
  {
   "cell_type": "code",
   "execution_count": 104,
   "id": "1e77c232-16b0-438a-91a4-f0cbb0bd25d0",
   "metadata": {},
   "outputs": [],
   "source": [
    "#nx.dijkstra_path(G_copy, source=2668, target=1074, weight='weight')"
   ]
  },
  {
   "cell_type": "code",
   "execution_count": 105,
   "id": "7c7bee40-474d-4d7a-9514-6b25022bee6e",
   "metadata": {},
   "outputs": [],
   "source": [
    "#nx.shortest_path(G_copy, source=2668, target=1074, weight='weight', method='dijkstra')"
   ]
  },
  {
   "cell_type": "code",
   "execution_count": 106,
   "id": "ac5c00f0-2265-4946-ac81-3106ef848748",
   "metadata": {},
   "outputs": [],
   "source": [
    "#nx.shortest_path(g_nx, source=2668, target=1074, weight='weight', method='dijkstra')"
   ]
  },
  {
   "cell_type": "code",
   "execution_count": 123,
   "id": "cf3e59bb-27e5-4094-899f-a4cd2edfefb5",
   "metadata": {},
   "outputs": [],
   "source": [
    "def remove_unreachable_nodes(G, source):\n",
    "    # Get the set of nodes reachable from the source\n",
    "    reachable_nodes = nx.descendants(G, source)\n",
    "\n",
    "    # Find nodes that are not reachable\n",
    "    non_reachable_nodes = set(G.nodes()) - reachable_nodes\n",
    "\n",
    "    # Remove non-reachable nodes from the graph\n",
    "    G.remove_nodes_from(non_reachable_nodes)\n",
    "    \n",
    "    return G"
   ]
  },
  {
   "cell_type": "code",
   "execution_count": 143,
   "id": "e22ca477-0ac8-44e4-b468-92cfdc62a999",
   "metadata": {},
   "outputs": [],
   "source": [
    "def avg_longest_forward_path(g_nx, weights, sampled_indices_src, sampled_indices_tar):\n",
    "    lst = []\n",
    "    num_nodes = []\n",
    "    tot_nodes = []\n",
    "    inf_counter = 0\n",
    "    \n",
    "    for i in range(len(sampled_indices_src)):\n",
    "        #compute distances from the target\n",
    "        dist_dict = nx.shortest_path_length(g_nx, source=None, target=sampled_indices_tar[i], weight='weight', method='dijkstra')\n",
    "        #remove non-forward edges\n",
    "        G_copy = copy.deepcopy(g_nx)\n",
    "        remove_edges_based_on_scores(G_copy, dist_dict)\n",
    "        #make edges negative\n",
    "        neg_edge_weights(G_copy)\n",
    "        G2 = copy.deepcopy(G_copy)\n",
    "        #compute longest forward path\n",
    "        try:\n",
    "            #dist = nx.shortest_path_length(G_copy, source=sampled_indices_src[i], target=sampled_indices_tar[i], weight='weight', method='dijkstra')\n",
    "            #dist1 = nx.dijkstra_path_length(G_copy, source=sampled_indices_src[i], target=sampled_indices_tar[i], weight='weight')\n",
    "            dist,path = nx.single_source_dijkstra(G_copy, source=sampled_indices_src[i], target=sampled_indices_tar[i], weight='weight')\n",
    "            lst.append(-dist)\n",
    "            num_nodes.append(len(path))\n",
    "            print(len(path))\n",
    "\n",
    "            gg = remove_unreachable_nodes(G2,sampled_indices_src[i])\n",
    "            print('here',len(gg.nodes()) + 1) # + 1 for the source\n",
    "            tot_nodes.append(len(gg.nodes()) + 1)\n",
    "            \n",
    "        except:\n",
    "            inf_counter +=1\n",
    "            print(sampled_indices_src[i], sampled_indices_tar[i])\n",
    "    print('unreachable targets:', inf_counter)\n",
    "    \n",
    "    return lst,num_nodes,tot_nodes\n",
    "\n"
   ]
  },
  {
   "cell_type": "code",
   "execution_count": 144,
   "id": "8150b1a5-2d90-40ec-9afc-8c135f88fcf1",
   "metadata": {},
   "outputs": [
    {
     "name": "stdout",
     "output_type": "stream",
     "text": [
      "10\n",
      "here 10\n",
      "8\n",
      "here 8\n",
      "17\n",
      "here 18\n",
      "24\n",
      "here 30\n",
      "12\n",
      "here 12\n",
      "11\n",
      "here 11\n",
      "18\n",
      "here 18\n",
      "14\n",
      "here 14\n",
      "8\n",
      "here 8\n",
      "11\n",
      "here 11\n",
      "13\n",
      "here 13\n",
      "22\n",
      "here 22\n",
      "13\n",
      "here 13\n",
      "27\n",
      "here 27\n",
      "7\n",
      "here 7\n",
      "17\n",
      "here 28\n",
      "17\n",
      "here 26\n",
      "7\n",
      "here 7\n",
      "24\n",
      "here 24\n",
      "11\n",
      "here 11\n",
      "unreachable targets: 0\n",
      "CPU times: user 145 ms, sys: 7 µs, total: 145 ms\n",
      "Wall time: 144 ms\n"
     ]
    }
   ],
   "source": [
    "%%time\n",
    "longest_forward_paths,num_nodes_fp,tot_nodes = avg_longest_forward_path(g_nx, weights, sampled_indices_src, sampled_indices_tar)"
   ]
  },
  {
   "cell_type": "code",
   "execution_count": 110,
   "id": "27d1ca5d-bfde-4978-b0ec-b86721f84502",
   "metadata": {},
   "outputs": [
    {
     "name": "stdout",
     "output_type": "stream",
     "text": [
      "14.55 5.8691992639541555\n"
     ]
    }
   ],
   "source": [
    "print(np.mean(num_nodes_fp),np.std(num_nodes_fp))"
   ]
  },
  {
   "cell_type": "code",
   "execution_count": 111,
   "id": "83cb0cc2-1be1-4b26-af84-8fb6cc17664e",
   "metadata": {},
   "outputs": [
    {
     "name": "stdout",
     "output_type": "stream",
     "text": [
      "14.35 6.035519861619212\n"
     ]
    }
   ],
   "source": [
    "print(np.mean(longest_forward_paths),np.std(longest_forward_paths))"
   ]
  },
  {
   "cell_type": "code",
   "execution_count": 122,
   "id": "f5b84632-738e-490d-b5f0-ffa749cf746b",
   "metadata": {},
   "outputs": [
    {
     "data": {
      "text/plain": [
       "(398, 860)"
      ]
     },
     "execution_count": 122,
     "metadata": {},
     "output_type": "execute_result"
    }
   ],
   "source": [
    "len(G_copy.edges()),len(g_nx.edges())"
   ]
  },
  {
   "cell_type": "code",
   "execution_count": 145,
   "id": "fbadece3-8cab-416b-ad87-d0bf44ee822f",
   "metadata": {},
   "outputs": [
    {
     "name": "stdout",
     "output_type": "stream",
     "text": [
      "Data: FLA\n",
      "Nodes: 369 Edges: 860 Weighted: Yes\n",
      "SP length: Mean: 14.4 Std: 6.0\n",
      "LFP length: Mean: 14.4 Std: 6.0\n",
      "Visited nodes SP 14.5 Std: 5.9\n",
      "Visited nodes LFP 14.6 Std: 5.9\n",
      "Visited nodes Total FP 15.9 Std: 7.4\n"
     ]
    }
   ],
   "source": [
    "print('Data: FLA')\n",
    "print('Nodes:', len(g_nx.nodes()), 'Edges:', len(g_nx.edges()), 'Weighted: Yes')\n",
    "print('SP length: Mean:', np.round(np.mean(avg_sp),1),'Std:', np.round(np.std(avg_sp),1))\n",
    "print('LFP length: Mean:', np.round(np.mean(longest_forward_paths),1), 'Std:', np.round(np.std(longest_forward_paths),1))\n",
    "print('Visited nodes SP', np.round(np.mean(num_nodes_sp),1), 'Std:', np.round(np.std(num_nodes_sp),1))\n",
    "print('Visited nodes LFP', np.round(np.mean(num_nodes_fp),1), 'Std:', np.round(np.std(num_nodes_fp),1))\n",
    "print('Visited nodes Total FP', np.round(np.mean(tot_nodes),1), 'Std:', np.round(np.std(tot_nodes),1))\n",
    "\n",
    "\n",
    "\n"
   ]
  },
  {
   "cell_type": "code",
   "execution_count": 113,
   "id": "f40ec7b5-300e-4d6a-afe4-930ea89449a8",
   "metadata": {},
   "outputs": [
    {
     "data": {
      "text/plain": [
       "array([1., 1., 1., 1., 1., 1., 1., 1., 1., 1., 1., 1., 1., 1., 1., 1., 1.,\n",
       "       1., 1., 1.])"
      ]
     },
     "execution_count": 113,
     "metadata": {},
     "output_type": "execute_result"
    }
   ],
   "source": [
    "np.array(longest_forward_paths)/np.array(avg_sp)"
   ]
  },
  {
   "cell_type": "code",
   "execution_count": 114,
   "id": "9f7689f3-0b07-43a9-9ac1-f8ed66c6c8b3",
   "metadata": {},
   "outputs": [
    {
     "data": {
      "text/plain": [
       "[10, 7, 16, 24, 11, 10, 18, 13, 7, 15, 16, 22, 12, 26, 6, 16, 19, 6, 23, 10]"
      ]
     },
     "execution_count": 114,
     "metadata": {},
     "output_type": "execute_result"
    }
   ],
   "source": [
    "avg_sp"
   ]
  },
  {
   "cell_type": "code",
   "execution_count": null,
   "id": "4fa82d38-a17b-4375-91c7-ba261629516e",
   "metadata": {},
   "outputs": [],
   "source": []
  },
  {
   "cell_type": "code",
   "execution_count": 115,
   "id": "029ec117-4cb1-4dae-a242-d12945eec0d3",
   "metadata": {},
   "outputs": [
    {
     "ename": "AttributeError",
     "evalue": "module 'graph_tool' has no attribute 'shortest_path'",
     "output_type": "error",
     "traceback": [
      "\u001b[0;31m---------------------------------------------------------------------------\u001b[0m",
      "\u001b[0;31mAttributeError\u001b[0m                            Traceback (most recent call last)",
      "Cell \u001b[0;32mIn[115], line 2\u001b[0m\n\u001b[1;32m      1\u001b[0m weights \u001b[38;5;241m=\u001b[39m g\u001b[38;5;241m.\u001b[39medge_properties[\u001b[38;5;124m\"\u001b[39m\u001b[38;5;124mweight\u001b[39m\u001b[38;5;124m\"\u001b[39m]\n\u001b[0;32m----> 2\u001b[0m shortest_path \u001b[38;5;241m=\u001b[39m gt\u001b[38;5;241m.\u001b[39mshortest_path(g, source\u001b[38;5;241m=\u001b[39m\u001b[38;5;241m0\u001b[39m, target\u001b[38;5;241m=\u001b[39m\u001b[38;5;241m33\u001b[39m, weights\u001b[38;5;241m=\u001b[39mweights)\n",
      "\u001b[0;31mAttributeError\u001b[0m: module 'graph_tool' has no attribute 'shortest_path'"
     ]
    }
   ],
   "source": [
    "\n",
    "weights = g.edge_properties[\"weight\"]\n",
    "shortest_path = gt.shortest_path(g, source=0, target=33, weights=weights)\n"
   ]
  },
  {
   "cell_type": "code",
   "execution_count": null,
   "id": "96951441-8cde-4d86-92f5-191ca9ba9e7a",
   "metadata": {},
   "outputs": [],
   "source": [
    "np.inf ==np.inf"
   ]
  },
  {
   "cell_type": "code",
   "execution_count": null,
   "id": "1f7be913-e343-4278-ba95-ac22fabdfb9b",
   "metadata": {},
   "outputs": [],
   "source": []
  }
 ],
 "metadata": {
  "kernelspec": {
   "display_name": "Python 3 (ipykernel)",
   "language": "python",
   "name": "python3"
  },
  "language_info": {
   "codemirror_mode": {
    "name": "ipython",
    "version": 3
   },
   "file_extension": ".py",
   "mimetype": "text/x-python",
   "name": "python",
   "nbconvert_exporter": "python",
   "pygments_lexer": "ipython3",
   "version": "3.11.5"
  }
 },
 "nbformat": 4,
 "nbformat_minor": 5
}
