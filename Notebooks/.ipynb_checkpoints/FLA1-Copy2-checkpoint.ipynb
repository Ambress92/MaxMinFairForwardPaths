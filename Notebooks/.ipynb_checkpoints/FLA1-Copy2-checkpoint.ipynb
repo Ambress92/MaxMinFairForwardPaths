{
 "cells": [
  {
   "cell_type": "code",
   "execution_count": 1,
   "id": "34b3a96e-b879-4cf3-970d-11d34d9c1df2",
   "metadata": {},
   "outputs": [],
   "source": [
    "import graph_tool.collection \n",
    "import graph_tool.search \n",
    "import graph_tool as gt\n",
    "import random\n",
    "import numpy as np\n",
    "import zstandard\n",
    "import networkx as nx\n",
    "import copy\n",
    "import osmnx as ox\n",
    "\n",
    "import random\n",
    "from collections import defaultdict\n",
    "import matplotlib.pyplot as plt\n",
    "import os\n",
    "import subprocess\n",
    "import ast\n"
   ]
  },
  {
   "cell_type": "code",
   "execution_count": 2,
   "id": "a66de6c6",
   "metadata": {},
   "outputs": [],
   "source": [
    "%load_ext autoreload\n",
    "%autoreload 2\n",
    "\n",
    "from src import utils as ut\n"
   ]
  },
  {
   "cell_type": "code",
   "execution_count": 3,
   "id": "7e3e5237-7ed5-4b8c-ba49-ab0066d3ed25",
   "metadata": {},
   "outputs": [
    {
     "name": "stdout",
     "output_type": "stream",
     "text": [
      "Number of nodes: 1070376\n",
      "Number of edges: 2712798\n"
     ]
    }
   ],
   "source": [
    "def load_graph_from_file(filename):\n",
    "    graph = gt.Graph(directed=True)\n",
    "    weight_prop = graph.new_edge_property(\"double\")\n",
    "\n",
    "    # Dictionary to store mapping from node IDs to graph vertex objects\n",
    "    node_mapping = {}\n",
    "\n",
    "    with open(filename, 'r') as file:\n",
    "        for line in file:\n",
    "            parts = line.strip().split()\n",
    "\n",
    "            if parts[0] == 'p':\n",
    "                # Parse the number of nodes and arcs\n",
    "                num_nodes = int(parts[2])\n",
    "                num_arcs = int(parts[3])\n",
    "            elif parts[0] == 'a':\n",
    "                # Parse the arc information\n",
    "                source = int(parts[1]) - 1  # Subtract 1 to make it zero-indexed\n",
    "                target = int(parts[2]) - 1\n",
    "                weight = np.double(parts[3])\n",
    "\n",
    "                # Add vertices and edge to the graph\n",
    "                if source not in node_mapping:\n",
    "                    node_mapping[source] = graph.add_vertex()\n",
    "                if target not in node_mapping:\n",
    "                    node_mapping[target] = graph.add_vertex()\n",
    "\n",
    "                edge = graph.add_edge(node_mapping[source], node_mapping[target])\n",
    "                weight_prop[edge] = weight\n",
    "    \n",
    "    graph.edge_properties[\"weight\"] = weight_prop\n",
    "    return graph\n",
    "\n",
    "# Load the graph from file\n",
    "filename = 'data/USA-road-d.FLA.gr'\n",
    "g_gt = load_graph_from_file(filename)\n",
    "\n",
    "print(\"Number of nodes:\", g_gt.num_vertices())\n",
    "print(\"Number of edges:\", g_gt.num_edges())\n"
   ]
  },
  {
   "cell_type": "code",
   "execution_count": 4,
   "id": "9c337ac0",
   "metadata": {},
   "outputs": [
    {
     "data": {
      "text/plain": [
       "{'weight': <EdgePropertyMap object with value type 'double', for Graph 0x168bf7cd0, at 0x168a74c90>}"
      ]
     },
     "execution_count": 4,
     "metadata": {},
     "output_type": "execute_result"
    }
   ],
   "source": [
    "g_gt.edge_properties"
   ]
  },
  {
   "cell_type": "code",
   "execution_count": 5,
   "id": "44155654",
   "metadata": {},
   "outputs": [],
   "source": [
    "def from_gt_to_nx(g, wgt = \"weight\"):\n",
    "    g_nx = nx.DiGraph()\n",
    "    \n",
    "    for v in g.vertices():\n",
    "        g_nx.add_node(int(v))\n",
    "    \n",
    "    for e in g.edges():\n",
    "        source = int(e.source())\n",
    "        target = int(e.target())\n",
    "        weight = g.ep[wgt][e]  \n",
    "        g_nx.add_edge(source, target, length=weight)\n",
    "        #g_nx.add_edge(target, source, weight=weight) #if undirected graph ------------\n",
    "    return(g_nx)"
   ]
  },
  {
   "cell_type": "code",
   "execution_count": 6,
   "id": "1416526c",
   "metadata": {},
   "outputs": [],
   "source": [
    "g = from_gt_to_nx(g_gt, wgt = \"weight\") "
   ]
  },
  {
   "cell_type": "code",
   "execution_count": 7,
   "id": "2c6dc71c",
   "metadata": {},
   "outputs": [
    {
     "data": {
      "text/plain": [
       "1070376"
      ]
     },
     "execution_count": 7,
     "metadata": {},
     "output_type": "execute_result"
    }
   ],
   "source": [
    "len(g.nodes(data = 'length'))"
   ]
  },
  {
   "cell_type": "code",
   "execution_count": 8,
   "id": "11d37cb9",
   "metadata": {},
   "outputs": [],
   "source": [
    "wgt = 'length'"
   ]
  },
  {
   "cell_type": "code",
   "execution_count": 9,
   "id": "d3d17855",
   "metadata": {},
   "outputs": [],
   "source": [
    "st_pairs = 10 #number of source, target pairs"
   ]
  },
  {
   "cell_type": "code",
   "execution_count": 10,
   "id": "4af05f58",
   "metadata": {},
   "outputs": [],
   "source": [
    "st = ut.sample_st(g,st_pairs, seed = 44)"
   ]
  },
  {
   "cell_type": "code",
   "execution_count": null,
   "id": "30a71642",
   "metadata": {},
   "outputs": [],
   "source": []
  },
  {
   "cell_type": "code",
   "execution_count": 14,
   "id": "2fb7d133",
   "metadata": {},
   "outputs": [],
   "source": [
    "folder_path = \"/Users/antonioferrara/Desktop/GitHub/Maxmin-Fair-Paths/kspwlo-master/\"\n",
    "os.chdir(folder_path)\n",
    "orig_node,dest_node = st[0][1],st[1][1]\n",
    "node_map = ut.save_graph_to_gr(g, 'tmp.gr', source=orig_node, target=dest_node,weight = wgt)\n"
   ]
  },
  {
   "cell_type": "code",
   "execution_count": 15,
   "id": "bd88dac3",
   "metadata": {
    "scrolled": true
   },
   "outputs": [
    {
     "name": "stderr",
     "output_type": "stream",
     "text": [
      "\r",
      "Processing pairs of nodes:   0%|         | 0/10 [00:00<?, ?it/s]"
     ]
    },
    {
     "name": "stdout",
     "output_type": "stream",
     "text": [
      "Set parameter Username\n",
      "Academic license - for non-commercial use only - expires 2025-06-20\n",
      "MMFP 125.01811003684998\n",
      "RFP 19.875626802444458\n",
      "esxc5 221.3405749797821\n"
     ]
    },
    {
     "name": "stderr",
     "output_type": "stream",
     "text": [
      "\r",
      "Processing pairs of nodes:  10%| | 1/10 [05:51<52:42, 351.40s/it"
     ]
    },
    {
     "name": "stdout",
     "output_type": "stream",
     "text": [
      "esxc8 4.752760171890259\n",
      "MMFP 351.5215845108032\n",
      "RFP 13.526529788970947\n",
      "esxc5 5.297051906585693\n"
     ]
    },
    {
     "name": "stderr",
     "output_type": "stream",
     "text": [
      "\r",
      "Processing pairs of nodes:  20%|▏| 2/10 [11:50<47:29, 356.21s/it"
     ]
    },
    {
     "name": "stdout",
     "output_type": "stream",
     "text": [
      "esxc8 2.6729960441589355\n",
      "MMFP 791.2032361030579\n",
      "RFP 13.442358255386353\n",
      "esxc5 27.26845693588257\n"
     ]
    },
    {
     "name": "stderr",
     "output_type": "stream",
     "text": [
      "\r",
      "Processing pairs of nodes:  30%|▎| 3/10 [25:33<1:06:22, 568.98s/"
     ]
    },
    {
     "name": "stdout",
     "output_type": "stream",
     "text": [
      "esxc8 3.421811103820801\n",
      "MMFP 19.61730694770813\n",
      "RFP 14.837780952453613\n",
      "esxc5 1.3888282775878906\n"
     ]
    },
    {
     "name": "stderr",
     "output_type": "stream",
     "text": [
      "\r",
      "Processing pairs of nodes:  40%|▍| 4/10 [25:55<35:18, 353.12s/it"
     ]
    },
    {
     "name": "stdout",
     "output_type": "stream",
     "text": [
      "esxc8 1.1717839241027832\n",
      "MMFP 134.21254706382751\n",
      "RFP 14.06827998161316\n",
      "esxc5 110.94853091239929\n"
     ]
    },
    {
     "name": "stderr",
     "output_type": "stream",
     "text": [
      "\r",
      "Processing pairs of nodes:  50%|▌| 5/10 [30:04<26:17, 315.46s/it"
     ]
    },
    {
     "name": "stdout",
     "output_type": "stream",
     "text": [
      "esxc8 3.3127307891845703\n",
      "MMFP 197.34579014778137\n",
      "RFP 13.41116213798523\n",
      "esxc5 11.684115171432495\n"
     ]
    },
    {
     "name": "stderr",
     "output_type": "stream",
     "text": [
      "\r",
      "Processing pairs of nodes:  60%|▌| 6/10 [33:35<18:40, 280.01s/it"
     ]
    },
    {
     "name": "stdout",
     "output_type": "stream",
     "text": [
      "esxc8 1.928415060043335\n",
      "MMFP 301.5291178226471\n",
      "RFP 13.508650779724121\n",
      "esxc5 43.016690254211426\n"
     ]
    },
    {
     "name": "stderr",
     "output_type": "stream",
     "text": [
      "\r",
      "Processing pairs of nodes:  70%|▋| 7/10 [39:26<15:10, 303.45s/it"
     ]
    },
    {
     "name": "stdout",
     "output_type": "stream",
     "text": [
      "esxc8 6.798289060592651\n",
      "MMFP 71.22019267082214\n",
      "RFP 12.953205823898315\n",
      "esxc5 17.297604084014893\n"
     ]
    },
    {
     "name": "stderr",
     "output_type": "stream",
     "text": [
      "\r",
      "Processing pairs of nodes:  80%|▊| 8/10 [40:57<07:51, 235.78s/it"
     ]
    },
    {
     "name": "stdout",
     "output_type": "stream",
     "text": [
      "esxc8 2.2076568603515625\n",
      "MMFP 261.8789391517639\n",
      "RFP 12.461841821670532\n",
      "esxc5 89.72596716880798\n"
     ]
    },
    {
     "name": "stderr",
     "output_type": "stream",
     "text": [
      "\r",
      "Processing pairs of nodes:  90%|▉| 9/10 [46:51<04:32, 272.65s/it"
     ]
    },
    {
     "name": "stdout",
     "output_type": "stream",
     "text": [
      "esxc8 1.9197049140930176\n",
      "MMFP 66.99948477745056\n",
      "RFP 13.4911630153656\n",
      "esxc5 85.30414485931396\n"
     ]
    },
    {
     "name": "stderr",
     "output_type": "stream",
     "text": [
      "Processing pairs of nodes: 100%|█| 10/10 [49:27<00:00, 296.76s/i"
     ]
    },
    {
     "name": "stdout",
     "output_type": "stream",
     "text": [
      "esxc8 3.5340709686279297\n"
     ]
    },
    {
     "name": "stderr",
     "output_type": "stream",
     "text": [
      "\n"
     ]
    }
   ],
   "source": [
    "import numpy as np\n",
    "from contextlib import contextmanager\n",
    "import sys\n",
    "import os\n",
    "import pandas as pd\n",
    "import matplotlib.pyplot as plt\n",
    "from tqdm import tqdm  # Import tqdm\n",
    "import time  # Import time module\n",
    "\n",
    "# Initialize lists to store the results and runtimes\n",
    "results_FP_paths = []\n",
    "results_random_FP_paths = []\n",
    "results_yen_k_shortest_10 = []\n",
    "#results_yen_k_shortest_100 = []\n",
    "results_kspwlo_paths_08_10 = []\n",
    "results_kspwlo_paths_08_100 = []\n",
    "results_kspwlo_paths_05_10 = []\n",
    "results_kspwlo_paths_05_100 = []\n",
    "results_opplus_paths_08_10 = []\n",
    "results_opplus_paths_05_10 = []\n",
    "\n",
    "lengths_FP_paths = []\n",
    "lengths_random_FP_paths = []\n",
    "lengths_yen_k_shortest_10 = []\n",
    "#lengths_yen_k_shortest_100 = []\n",
    "lengths_kspwlo_paths_08_10 = []\n",
    "lengths_kspwlo_paths_08_100 = []\n",
    "lengths_kspwlo_paths_05_10 = []\n",
    "lengths_kspwlo_paths_05_100 = []\n",
    "lengths_opplus_paths_08_10 = []\n",
    "lengths_opplus_paths_05_10 = []\n",
    "\n",
    "runtimes_FP_paths = []\n",
    "runtimes_random_FP_paths = []\n",
    "runtimes_yen_k_shortest_10 = []\n",
    "#runtimes_yen_k_shortest_100 = []\n",
    "runtimes_kspwlo_paths_08_10 = []\n",
    "runtimes_kspwlo_paths_08_100 = []\n",
    "runtimes_kspwlo_paths_05_10 = []\n",
    "runtimes_kspwlo_paths_05_100 = []\n",
    "runtimes_opplus_paths_08_10 = []\n",
    "runtimes_opplus_paths_05_10 = []\n",
    "\n",
    "gini_FP_paths = []\n",
    "gini_random_FP_paths = []\n",
    "gini_yen_k_shortest_10 = []\n",
    "#gini_yen_k_shortest_100 = []\n",
    "gini_kspwlo_paths_08_10 = []\n",
    "gini_kspwlo_paths_08_100 = []\n",
    "gini_kspwlo_paths_05_10 = []\n",
    "gini_kspwlo_paths_05_100 = []\n",
    "gini_opplus_paths_08_10 = []\n",
    "gini_opplus_paths_05_10 = []\n",
    "\n",
    "# Iterate through pairs of nodes with a progress bar\n",
    "for orig_node, dest_node in tqdm(zip(st[0], st[1]), total=len(st[0]), desc=\"Processing pairs of nodes\"):\n",
    "\n",
    "    # Measure time for the first block\n",
    "    start_time = time.time()\n",
    "    dag = ut.get_dag(g, orig_node, dest_node, weight=wgt)\n",
    "    mid_time = time.time()\n",
    "    elapsed_dag_time = mid_time - start_time\n",
    "    \n",
    "    start_time = time.time()\n",
    "    K, alpha, model, result = ut.iterative_solver(dag, orig_node, dest_node) #LP solver, alpha are the satisf. probs\n",
    "    final = ut.compute_probabilities_and_expectations(dag, result, dest_node) \n",
    "    dag = final['dag']\n",
    "    end_time = time.time()\n",
    "    \n",
    "    #FP_paths = [i for i in nx.all_simple_paths(ut.remove_zero_prob_edges(dag), source=orig_node, target=dest_node)]\n",
    "    \n",
    "    print('MMFP', end_time - start_time + elapsed_dag_time)\n",
    "    \n",
    "    elapsed_time_FP_paths = end_time - start_time + elapsed_dag_time\n",
    "    runtimes_FP_paths.append(elapsed_time_FP_paths)\n",
    "    #results_FP_paths.append(len(FP_paths))\n",
    "    lengths_FP_paths.append(final['exp_length'])\n",
    "    gini_FP_paths.append(ut.get_gini_from_alpha(alpha))   \n",
    "    \n",
    "    # Measure time for random_FP_paths\n",
    "    start_time = time.time()\n",
    "    random_FP_paths = ut.sample_k_random_FP(dag, orig_node, dest_node,  100)\n",
    "    end_time = time.time()\n",
    "    elapsed_time_random_FP = end_time - start_time + elapsed_dag_time\n",
    "    \n",
    "    runtimes_random_FP_paths.append(elapsed_time_random_FP)\n",
    "    results_random_FP_paths.append(len(random_FP_paths))\n",
    "    lengths_random_FP_paths.append(ut.average_path_length(random_FP_paths, g, wgt))\n",
    "    ut.add_nodes_satisfaction(random_FP_paths, dag, 'random_fp')\n",
    "    gini_random_FP_paths.append(ut.get_gini(dag, 'random_fp'))\n",
    "    \n",
    "    print('RFP', elapsed_time_random_FP)\n",
    "    \n",
    "    '''\n",
    "    # Measure time for Yen's K-shortest paths k = 10\n",
    "    start_time = time.time()\n",
    "    yen_k_shortest_10 = ut.yen_k_paths(g, orig_node, dest_node, weight=wgt, k=10)\n",
    "    end_time = time.time()\n",
    "    elapsed_time_yen_10 = end_time - start_time\n",
    "    runtimes_yen_k_shortest_10.append(elapsed_time_yen_10)\n",
    "    results_yen_k_shortest_10.append(len(yen_k_shortest_10))\n",
    "    lengths_yen_k_shortest_10.append(ut.average_path_length(yen_k_shortest_10, g, wgt))\n",
    "    ut.add_nodes_satisfaction(yen_k_shortest_10, dag, 'yen_10')\n",
    "    gini_yen_k_shortest_10.append(ut.get_gini(dag, 'yen_10'))\n",
    "    '''\n",
    "    \n",
    "    # Measure time for Yen's K-shortest paths k = 100\n",
    "    '''\n",
    "    start_time = time.time()\n",
    "    yen_k_shortest_100 = ut.yen_k_paths(g, orig_node, dest_node, weight=wgt, k=100)\n",
    "    end_time = time.time()\n",
    "    elapsed_time_yen_100 = end_time - start_time\n",
    "    runtimes_yen_k_shortest_100.append(elapsed_time_yen_100)\n",
    "    results_yen_k_shortest_100.append(len(yen_k_shortest_100))\n",
    "    lengths_yen_k_shortest_100.append(ut.average_path_length(yen_k_shortest_100, g, wgt))\n",
    "    ut.add_nodes_satisfaction(yen_k_shortest_100, dag, 'yen_100')\n",
    "    gini_yen_k_shortest_100.append(ut.get_gini(dag, 'yen_100'))'''\n",
    "    \n",
    "    \n",
    "    # Measure time for KSPwlo 0.5 and k = 10\n",
    "    start_time = time.time()\n",
    "    kspwlo_paths_05_10 = ut.inverse_mapping(\n",
    "        ut.execute_bash_command(\"tmp.gr\", 10, 0.5, node_map[orig_node], node_map[dest_node], \"esx-c\"), node_map)\n",
    "    end_time = time.time()\n",
    "    elapsed_time_kspwlo_05_10 = end_time - start_time\n",
    "    runtimes_kspwlo_paths_05_10.append(elapsed_time_kspwlo_05_10)\n",
    "    results_kspwlo_paths_05_10.append(len(kspwlo_paths_05_10))\n",
    "    lengths_kspwlo_paths_05_10.append(ut.average_path_length(kspwlo_paths_05_10, g, wgt))\n",
    "    ut.add_nodes_satisfaction(kspwlo_paths_05_10, dag, 'kspwlo_paths_05_10')\n",
    "    gini_kspwlo_paths_05_10.append(ut.get_gini(dag, 'kspwlo_paths_05_10'))\n",
    "    \n",
    "    \n",
    "    print('esxc5', elapsed_time_kspwlo_05_10)\n",
    "    \n",
    "    '''\n",
    "\n",
    "    # Measure time for KSPwlo 0.5 and k = 100\n",
    "    start_time = time.time()\n",
    "    kspwlo_paths_05_100 = ut.inverse_mapping(\n",
    "        ut.execute_bash_command(\"tmp.gr\", 100, 0.5, node_map[orig_node], node_map[dest_node], \"esx-c\"), node_map)\n",
    "    end_time = time.time()\n",
    "    elapsed_time_kspwlo_05_100 = end_time - start_time\n",
    "    runtimes_kspwlo_paths_05_100.append(elapsed_time_kspwlo_05_100)\n",
    "    results_kspwlo_paths_05_100.append(len(kspwlo_paths_05_100))\n",
    "    lengths_kspwlo_paths_05_100.append(ut.average_path_length(kspwlo_paths_05_100, g, wgt))\n",
    "    ut.add_nodes_satisfaction(kspwlo_paths_05_100, dag, 'kspwlo_paths_05_100')\n",
    "    gini_kspwlo_paths_05_100.append(ut.get_gini(dag, 'kspwlo_paths_05_100'))\n",
    "    '''\n",
    "    \n",
    "    # Measure time for KSPwlo 0.8 and k = 10\n",
    "    start_time = time.time()\n",
    "    kspwlo_paths_08_10 = ut.inverse_mapping(\n",
    "        ut.execute_bash_command(\"tmp.gr\", 10, 0.8, node_map[orig_node], node_map[dest_node], \"esx-c\"), node_map)\n",
    "    end_time = time.time()\n",
    "    elapsed_time_kspwlo_08_10 = end_time - start_time\n",
    "    runtimes_kspwlo_paths_08_10.append(elapsed_time_kspwlo_08_10)\n",
    "    results_kspwlo_paths_08_10.append(len(kspwlo_paths_08_10))\n",
    "    lengths_kspwlo_paths_08_10.append(ut.average_path_length(kspwlo_paths_08_10, g, wgt))\n",
    "    ut.add_nodes_satisfaction(kspwlo_paths_08_10, dag, 'kspwlo_paths_08_10')\n",
    "    gini_kspwlo_paths_08_10.append(ut.get_gini(dag, 'kspwlo_paths_08_10'))\n",
    "    \n",
    "    print('esxc8', elapsed_time_kspwlo_08_10)\n",
    "    \n",
    "\n",
    "    '''\n",
    "    # Measure time for KSPwlo 0.8 and k = 100\n",
    "    start_time = time.time()\n",
    "    kspwlo_paths_08_100 = ut.inverse_mapping(\n",
    "        ut.execute_bash_command(\"tmp.gr\", 100, 0.8, node_map[orig_node], node_map[dest_node], \"esx-c\"), node_map)\n",
    "    end_time = time.time()\n",
    "    elapsed_time_kspwlo_08_100 = end_time - start_time\n",
    "    runtimes_kspwlo_paths_08_100.append(elapsed_time_kspwlo_08_100)\n",
    "    results_kspwlo_paths_08_100.append(len(kspwlo_paths_08_100))\n",
    "    lengths_kspwlo_paths_08_100.append(ut.average_path_length(kspwlo_paths_08_100, g, wgt))\n",
    "    ut.add_nodes_satisfaction(kspwlo_paths_08_100, dag, 'kspwlo_paths_08_100')\n",
    "    gini_kspwlo_paths_08_100.append(ut.get_gini(dag, 'kspwlo_paths_08_100'))\n",
    "    '''\n",
    "    \n",
    "    '''\n",
    "    \n",
    "    # Measure time for Opplus 0.5 and k = 10\n",
    "    start_time = time.time()\n",
    "    opplus_paths_05_10 = ut.inverse_mapping(\n",
    "        ut.execute_bash_command(\"tmp.gr\", 10, 0.5, node_map[orig_node], node_map[dest_node], \"opplus\"), node_map)\n",
    "    end_time = time.time()\n",
    "    elapsed_time_opplus_05_10 = end_time - start_time\n",
    "    runtimes_opplus_paths_05_10.append(elapsed_time_opplus_05_10)\n",
    "    results_opplus_paths_05_10.append(len(opplus_paths_05_10))\n",
    "    lengths_opplus_paths_05_10.append(ut.average_path_length(opplus_paths_05_10, g, wgt))\n",
    "    ut.add_nodes_satisfaction(opplus_paths_05_10, dag, 'opplus_paths_05_10')\n",
    "    gini_opplus_paths_05_10.append(ut.get_gini(dag, 'opplus_paths_05_10'))\n",
    "    '''\n",
    "    '''\n",
    "    # Measure time for Opplus 0.8 and k = 10\n",
    "    start_time = time.time()\n",
    "    node_map = ut.save_graph_to_gr(g, 'tmp.gr', source=orig_node, target=dest_node, weight=wgt)\n",
    "    opplus_paths_08_10 = ut.inverse_mapping(\n",
    "        ut.execute_bash_command(\"tmp.gr\", 10, 0.8, node_map[orig_node], node_map[dest_node], \"opplus\"), node_map)\n",
    "    end_time = time.time()\n",
    "    elapsed_time_opplus_08_10 = end_time - start_time\n",
    "    runtimes_opplus_paths_08_10.append(elapsed_time_opplus_08_10)\n",
    "    results_opplus_paths_08_10.append(len(opplus_paths_08_10))\n",
    "    lengths_opplus_paths_08_10.append(ut.average_path_length(opplus_paths_08_10, g, wgt))\n",
    "    ut.add_nodes_satisfaction(opplus_paths_08_10, dag, 'opplus_paths_08_10')\n",
    "    gini_opplus_paths_08_10.append(ut.get_gini(dag, 'opplus_paths_08_10'))\n",
    "    \n",
    "    print('op8', elapsed_time_opplus_08_10)\n",
    "    '''\n",
    "    "
   ]
  },
  {
   "cell_type": "code",
   "execution_count": 18,
   "id": "93c8762d",
   "metadata": {},
   "outputs": [
    {
     "name": "stdout",
     "output_type": "stream",
     "text": [
      "               Method  Number of paths        Length    Std Length  \\\n",
      "0            FP_paths              NaN  4.218511e+06  2.012297e+06   \n",
      "1     random_FP_paths            100.0  4.186441e+06  1.997508e+06   \n",
      "2   yen_k_shortest_10              NaN           NaN           NaN   \n",
      "3   esx-c_paths_05_10             10.0  4.493468e+06  2.008365e+06   \n",
      "4   esx-c_paths_08_10             10.0  4.280328e+06  2.001537e+06   \n",
      "5  opplus_paths_05_10              NaN           NaN           NaN   \n",
      "6  opplus_paths_08_10              NaN           NaN           NaN   \n",
      "7  esx-c_paths_05_100              NaN           NaN           NaN   \n",
      "8  esx-c_paths_08_100              NaN           NaN           NaN   \n",
      "\n",
      "      Runtime  Std Runtime      Gini  Gini Std  \n",
      "0  232.054631   212.864003  0.427693  0.123904  \n",
      "1   14.157660     1.995617  0.502654  0.170253  \n",
      "2         NaN          NaN       NaN       NaN  \n",
      "3   61.327196    64.867743  0.643414  0.083036  \n",
      "4    3.172022     1.554241  0.657452  0.084889  \n",
      "5         NaN          NaN       NaN       NaN  \n",
      "6         NaN          NaN       NaN       NaN  \n",
      "7         NaN          NaN       NaN       NaN  \n",
      "8         NaN          NaN       NaN       NaN  \n"
     ]
    },
    {
     "name": "stderr",
     "output_type": "stream",
     "text": [
      "/Users/antonioferrara/anaconda3/lib/python3.11/site-packages/numpy/core/fromnumeric.py:3464: RuntimeWarning: Mean of empty slice.\n",
      "  return _methods._mean(a, axis=axis, dtype=dtype,\n",
      "/Users/antonioferrara/anaconda3/lib/python3.11/site-packages/numpy/core/_methods.py:192: RuntimeWarning: invalid value encountered in scalar divide\n",
      "  ret = ret.dtype.type(ret / rcount)\n",
      "/Users/antonioferrara/anaconda3/lib/python3.11/site-packages/numpy/core/_methods.py:269: RuntimeWarning: Degrees of freedom <= 0 for slice\n",
      "  ret = _var(a, axis=axis, dtype=dtype, out=out, ddof=ddof,\n",
      "/Users/antonioferrara/anaconda3/lib/python3.11/site-packages/numpy/core/_methods.py:226: RuntimeWarning: invalid value encountered in divide\n",
      "  arrmean = um.true_divide(arrmean, div, out=arrmean,\n",
      "/Users/antonioferrara/anaconda3/lib/python3.11/site-packages/numpy/core/_methods.py:261: RuntimeWarning: invalid value encountered in scalar divide\n",
      "  ret = ret.dtype.type(ret / rcount)\n"
     ]
    }
   ],
   "source": [
    "# Calculate mean and standard deviation for each method\n",
    "\n",
    "# Function to calculate mean and standard deviation for runtimes\n",
    "def calculate_runtime_mean_std(runtimes):\n",
    "    runtime_mean = np.mean(runtimes)\n",
    "    runtime_std = np.std(runtimes)\n",
    "    return runtime_mean, runtime_std\n",
    "\n",
    "# Function to calculate mean and standard deviation for results\n",
    "def calculate_result_mean_std(results):\n",
    "    result_mean = np.mean(results)\n",
    "    result_std = np.std(results)\n",
    "    return result_mean, result_std\n",
    "\n",
    "# Function to calculate mean for path lengths\n",
    "def calculate_length_mean(lengths):\n",
    "    return np.mean(lengths)\n",
    "\n",
    "methods = [\"FP_paths\", \"random_FP_paths\", \n",
    "           \"yen_k_shortest_10\", \"esx-c_paths_05_10\", \"esx-c_paths_08_10\", \n",
    "           \"opplus_paths_05_10\", \"opplus_paths_08_10\",\n",
    "           #\"yen_k_shortest_100\",\n",
    "           \"esx-c_paths_05_100\", \"esx-c_paths_08_100\",\n",
    "           ]\n",
    "\n",
    "results_lists = [results_FP_paths, results_random_FP_paths,\n",
    "                 results_yen_k_shortest_10, results_kspwlo_paths_05_10, results_kspwlo_paths_08_10,\n",
    "                 results_opplus_paths_05_10, results_opplus_paths_08_10,\n",
    "                 #results_yen_k_shortest_100,\n",
    "                 results_kspwlo_paths_05_100, results_kspwlo_paths_08_100]\n",
    "\n",
    "runtimes_lists = [runtimes_FP_paths, runtimes_random_FP_paths,\n",
    "                  runtimes_yen_k_shortest_10, runtimes_kspwlo_paths_05_10, runtimes_kspwlo_paths_08_10,\n",
    "                  runtimes_opplus_paths_05_10, runtimes_opplus_paths_08_10,\n",
    "                  #runtimes_yen_k_shortest_100,\n",
    "                  runtimes_kspwlo_paths_05_100, runtimes_kspwlo_paths_08_100]\n",
    "\n",
    "lengths_lists = [lengths_FP_paths, lengths_random_FP_paths,\n",
    "                 lengths_yen_k_shortest_10, lengths_kspwlo_paths_05_10, lengths_kspwlo_paths_08_10,\n",
    "                 lengths_opplus_paths_05_10, lengths_opplus_paths_08_10,\n",
    "                 #lengths_yen_k_shortest_100,\n",
    "                 lengths_kspwlo_paths_05_100, lengths_kspwlo_paths_08_100]\n",
    "\n",
    "gini_lists = [gini_FP_paths, gini_random_FP_paths,\n",
    "                 gini_yen_k_shortest_10, gini_kspwlo_paths_05_10, gini_kspwlo_paths_08_10,\n",
    "                 gini_opplus_paths_05_10, gini_opplus_paths_08_10,\n",
    "                 #gini_yen_k_shortest_100,\n",
    "                 gini_kspwlo_paths_05_100, gini_kspwlo_paths_08_100]\n",
    "\n",
    "\n",
    "\n",
    "data = []\n",
    "\n",
    "for method, results, runtimes, lengths, gini in zip(methods, results_lists, runtimes_lists, lengths_lists,gini_lists):\n",
    "    result_mean, result_std = calculate_result_mean_std(results)\n",
    "    runtime_mean, runtime_std = calculate_runtime_mean_std(runtimes)\n",
    "    length_mean, length_std = np.mean(lengths), np.std(lengths)\n",
    "    gini_mean,gini_std = np.mean(gini), np.std(gini)\n",
    "    data.append([method, \n",
    "                 result_mean,\n",
    "                 length_mean, length_std,\n",
    "                 runtime_mean, runtime_std,\n",
    "                 gini_mean,gini_std])\n",
    "    \n",
    "df = pd.DataFrame(data, columns=[\"Method\",  \"Number of paths\",  \n",
    "                                 \"Length\", \"Std Length\",\n",
    "                                 \"Runtime\", \"Std Runtime\",\n",
    "                                \"Gini\", \"Gini Std\"])\n",
    "\n",
    "# Print the DataFrame\n",
    "print(df)\n",
    "\n",
    "file_path = f'../FairShortPath/results/FLA44bis.csv'\n",
    "\n",
    "# Save the DataFrame to a CSV file\n",
    "df.to_csv(file_path, index=False)"
   ]
  },
  {
   "cell_type": "code",
   "execution_count": 20,
   "id": "d1fdd5dc",
   "metadata": {},
   "outputs": [
    {
     "data": {
      "text/html": [
       "<div>\n",
       "<style scoped>\n",
       "    .dataframe tbody tr th:only-of-type {\n",
       "        vertical-align: middle;\n",
       "    }\n",
       "\n",
       "    .dataframe tbody tr th {\n",
       "        vertical-align: top;\n",
       "    }\n",
       "\n",
       "    .dataframe thead th {\n",
       "        text-align: right;\n",
       "    }\n",
       "</style>\n",
       "<table border=\"1\" class=\"dataframe\">\n",
       "  <thead>\n",
       "    <tr style=\"text-align: right;\">\n",
       "      <th></th>\n",
       "      <th>Method</th>\n",
       "      <th>Number of paths</th>\n",
       "      <th>Length</th>\n",
       "      <th>Std Length</th>\n",
       "      <th>Runtime</th>\n",
       "      <th>Std Runtime</th>\n",
       "      <th>Gini</th>\n",
       "      <th>Gini Std</th>\n",
       "    </tr>\n",
       "  </thead>\n",
       "  <tbody>\n",
       "    <tr>\n",
       "      <th>0</th>\n",
       "      <td>FP_paths</td>\n",
       "      <td>NaN</td>\n",
       "      <td>4.218511e+06</td>\n",
       "      <td>2.012297e+06</td>\n",
       "      <td>232.054631</td>\n",
       "      <td>212.864003</td>\n",
       "      <td>0.427693</td>\n",
       "      <td>0.123904</td>\n",
       "    </tr>\n",
       "    <tr>\n",
       "      <th>1</th>\n",
       "      <td>random_FP_paths</td>\n",
       "      <td>100.0</td>\n",
       "      <td>4.186441e+06</td>\n",
       "      <td>1.997508e+06</td>\n",
       "      <td>14.157660</td>\n",
       "      <td>1.995617</td>\n",
       "      <td>0.502654</td>\n",
       "      <td>0.170253</td>\n",
       "    </tr>\n",
       "    <tr>\n",
       "      <th>2</th>\n",
       "      <td>yen_k_shortest_10</td>\n",
       "      <td>NaN</td>\n",
       "      <td>NaN</td>\n",
       "      <td>NaN</td>\n",
       "      <td>NaN</td>\n",
       "      <td>NaN</td>\n",
       "      <td>NaN</td>\n",
       "      <td>NaN</td>\n",
       "    </tr>\n",
       "    <tr>\n",
       "      <th>3</th>\n",
       "      <td>esx-c_paths_05_10</td>\n",
       "      <td>10.0</td>\n",
       "      <td>4.493468e+06</td>\n",
       "      <td>2.008365e+06</td>\n",
       "      <td>61.327196</td>\n",
       "      <td>64.867743</td>\n",
       "      <td>0.643414</td>\n",
       "      <td>0.083036</td>\n",
       "    </tr>\n",
       "    <tr>\n",
       "      <th>4</th>\n",
       "      <td>esx-c_paths_08_10</td>\n",
       "      <td>10.0</td>\n",
       "      <td>4.280328e+06</td>\n",
       "      <td>2.001537e+06</td>\n",
       "      <td>3.172022</td>\n",
       "      <td>1.554241</td>\n",
       "      <td>0.657452</td>\n",
       "      <td>0.084889</td>\n",
       "    </tr>\n",
       "    <tr>\n",
       "      <th>5</th>\n",
       "      <td>opplus_paths_05_10</td>\n",
       "      <td>NaN</td>\n",
       "      <td>NaN</td>\n",
       "      <td>NaN</td>\n",
       "      <td>NaN</td>\n",
       "      <td>NaN</td>\n",
       "      <td>NaN</td>\n",
       "      <td>NaN</td>\n",
       "    </tr>\n",
       "    <tr>\n",
       "      <th>6</th>\n",
       "      <td>opplus_paths_08_10</td>\n",
       "      <td>NaN</td>\n",
       "      <td>NaN</td>\n",
       "      <td>NaN</td>\n",
       "      <td>NaN</td>\n",
       "      <td>NaN</td>\n",
       "      <td>NaN</td>\n",
       "      <td>NaN</td>\n",
       "    </tr>\n",
       "    <tr>\n",
       "      <th>7</th>\n",
       "      <td>esx-c_paths_05_100</td>\n",
       "      <td>NaN</td>\n",
       "      <td>NaN</td>\n",
       "      <td>NaN</td>\n",
       "      <td>NaN</td>\n",
       "      <td>NaN</td>\n",
       "      <td>NaN</td>\n",
       "      <td>NaN</td>\n",
       "    </tr>\n",
       "    <tr>\n",
       "      <th>8</th>\n",
       "      <td>esx-c_paths_08_100</td>\n",
       "      <td>NaN</td>\n",
       "      <td>NaN</td>\n",
       "      <td>NaN</td>\n",
       "      <td>NaN</td>\n",
       "      <td>NaN</td>\n",
       "      <td>NaN</td>\n",
       "      <td>NaN</td>\n",
       "    </tr>\n",
       "  </tbody>\n",
       "</table>\n",
       "</div>"
      ],
      "text/plain": [
       "               Method  Number of paths        Length    Std Length  \\\n",
       "0            FP_paths              NaN  4.218511e+06  2.012297e+06   \n",
       "1     random_FP_paths            100.0  4.186441e+06  1.997508e+06   \n",
       "2   yen_k_shortest_10              NaN           NaN           NaN   \n",
       "3   esx-c_paths_05_10             10.0  4.493468e+06  2.008365e+06   \n",
       "4   esx-c_paths_08_10             10.0  4.280328e+06  2.001537e+06   \n",
       "5  opplus_paths_05_10              NaN           NaN           NaN   \n",
       "6  opplus_paths_08_10              NaN           NaN           NaN   \n",
       "7  esx-c_paths_05_100              NaN           NaN           NaN   \n",
       "8  esx-c_paths_08_100              NaN           NaN           NaN   \n",
       "\n",
       "      Runtime  Std Runtime      Gini  Gini Std  \n",
       "0  232.054631   212.864003  0.427693  0.123904  \n",
       "1   14.157660     1.995617  0.502654  0.170253  \n",
       "2         NaN          NaN       NaN       NaN  \n",
       "3   61.327196    64.867743  0.643414  0.083036  \n",
       "4    3.172022     1.554241  0.657452  0.084889  \n",
       "5         NaN          NaN       NaN       NaN  \n",
       "6         NaN          NaN       NaN       NaN  \n",
       "7         NaN          NaN       NaN       NaN  \n",
       "8         NaN          NaN       NaN       NaN  "
      ]
     },
     "execution_count": 20,
     "metadata": {},
     "output_type": "execute_result"
    }
   ],
   "source": [
    "file_path = f'../FairShortPath/results/FLA44bis.csv'\n",
    "import pandas as pd\n",
    "pd.read_csv(file_path)"
   ]
  },
  {
   "cell_type": "code",
   "execution_count": 21,
   "id": "f56ed2d8",
   "metadata": {},
   "outputs": [
    {
     "name": "stdout",
     "output_type": "stream",
     "text": [
      "unreachable targets: 0\n",
      "CPU times: user 3min 52s, sys: 20.1 s, total: 4min 12s\n",
      "Wall time: 4min 20s\n"
     ]
    }
   ],
   "source": [
    "%%time\n",
    "sp_length,sp_nodes = ut.list_shortest_path_nx(g, wgt, st[0], st[1])\n",
    "lfp_length,lfp_nodes,dag_nodes = ut.list_longest_forward_path(g, wgt, st[0], st[1])\n",
    "    "
   ]
  },
  {
   "cell_type": "code",
   "execution_count": 23,
   "id": "c09e4289",
   "metadata": {},
   "outputs": [
    {
     "data": {
      "text/plain": [
       "(4115784.2, 1999921.4910219752)"
      ]
     },
     "execution_count": 23,
     "metadata": {},
     "output_type": "execute_result"
    }
   ],
   "source": [
    "np.mean(sp_length),np.std(lfp_length)"
   ]
  },
  {
   "cell_type": "code",
   "execution_count": null,
   "id": "d99b78be",
   "metadata": {},
   "outputs": [],
   "source": [
    "df.to_csv(file_path, index=False)"
   ]
  },
  {
   "cell_type": "code",
   "execution_count": 24,
   "id": "a4f09e22",
   "metadata": {},
   "outputs": [
    {
     "data": {
      "text/plain": [
       "1.0242718446601942"
      ]
     },
     "execution_count": 24,
     "metadata": {},
     "output_type": "execute_result"
    }
   ],
   "source": [
    "4.22/4.12 "
   ]
  },
  {
   "cell_type": "code",
   "execution_count": 25,
   "id": "260a5230",
   "metadata": {},
   "outputs": [
    {
     "data": {
      "text/plain": [
       "2.2780569514237854"
      ]
     },
     "execution_count": 25,
     "metadata": {},
     "output_type": "execute_result"
    }
   ],
   "source": [
    "2720/1194 "
   ]
  },
  {
   "cell_type": "code",
   "execution_count": null,
   "id": "5d45d226",
   "metadata": {},
   "outputs": [],
   "source": []
  }
 ],
 "metadata": {
  "kernelspec": {
   "display_name": "Python 3 (ipykernel)",
   "language": "python",
   "name": "python3"
  },
  "language_info": {
   "codemirror_mode": {
    "name": "ipython",
    "version": 3
   },
   "file_extension": ".py",
   "mimetype": "text/x-python",
   "name": "python",
   "nbconvert_exporter": "python",
   "pygments_lexer": "ipython3",
   "version": "3.11.5"
  }
 },
 "nbformat": 4,
 "nbformat_minor": 5
}
