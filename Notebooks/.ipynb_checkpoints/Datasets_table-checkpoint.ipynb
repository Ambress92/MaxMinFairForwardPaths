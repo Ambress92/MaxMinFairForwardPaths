{
 "cells": [
  {
   "cell_type": "code",
   "execution_count": 45,
   "id": "34b3a96e-b879-4cf3-970d-11d34d9c1df2",
   "metadata": {},
   "outputs": [],
   "source": [
    "import random\n",
    "import numpy as np\n",
    "import zstandard\n",
    "import networkx as nx\n",
    "import copy\n",
    "import osmnx as ox\n",
    "import pandas as pd\n",
    "\n",
    "import random\n",
    "from collections import defaultdict\n",
    "import matplotlib.pyplot as plt\n",
    "import os\n",
    "import subprocess\n",
    "import ast"
   ]
  },
  {
   "cell_type": "code",
   "execution_count": 46,
   "id": "a66de6c6",
   "metadata": {},
   "outputs": [
    {
     "name": "stdout",
     "output_type": "stream",
     "text": [
      "The autoreload extension is already loaded. To reload it, use:\n",
      "  %reload_ext autoreload\n"
     ]
    }
   ],
   "source": [
    "%load_ext autoreload\n",
    "%autoreload 2\n",
    "\n",
    "from src import utils as ut\n"
   ]
  },
  {
   "cell_type": "code",
   "execution_count": 47,
   "id": "7e3e5237-7ed5-4b8c-ba49-ab0066d3ed25",
   "metadata": {},
   "outputs": [],
   "source": [
    "place = 'Buenos Aires, Argentina'\n",
    "g = ut.get_nx_from_ox(place)\n",
    "wgt = 'length'\n",
    "\n",
    "G = ox.graph_from_place(place, network_type='drive')"
   ]
  },
  {
   "cell_type": "code",
   "execution_count": 48,
   "id": "d3d17855",
   "metadata": {},
   "outputs": [],
   "source": [
    "st_pairs = 30 #number of source, target pairs"
   ]
  },
  {
   "cell_type": "code",
   "execution_count": 49,
   "id": "4af05f58",
   "metadata": {},
   "outputs": [],
   "source": [
    "st = ut.sample_st(g,st_pairs, seed = 117)"
   ]
  },
  {
   "cell_type": "code",
   "execution_count": 50,
   "id": "9d6a2827",
   "metadata": {},
   "outputs": [
    {
     "name": "stdout",
     "output_type": "stream",
     "text": [
      "unreachable targets: 0\n"
     ]
    }
   ],
   "source": [
    "sp_length,sp_nodes = ut.list_shortest_path_nx(g, wgt, st[0], st[1])\n",
    "lfp_length,lfp_nodes,dag_nodes = ut.list_longest_forward_path(g, wgt, st[0], st[1])\n"
   ]
  },
  {
   "cell_type": "code",
   "execution_count": 51,
   "id": "4cdba191",
   "metadata": {},
   "outputs": [],
   "source": [
    "#create pandas df, with columns\n",
    "#save/load\n",
    "#add new info"
   ]
  },
  {
   "cell_type": "code",
   "execution_count": 52,
   "id": "2a4ac23d",
   "metadata": {},
   "outputs": [
    {
     "data": {
      "text/html": [
       "<div>\n",
       "<style scoped>\n",
       "    .dataframe tbody tr th:only-of-type {\n",
       "        vertical-align: middle;\n",
       "    }\n",
       "\n",
       "    .dataframe tbody tr th {\n",
       "        vertical-align: top;\n",
       "    }\n",
       "\n",
       "    .dataframe thead th {\n",
       "        text-align: right;\n",
       "    }\n",
       "</style>\n",
       "<table border=\"1\" class=\"dataframe\">\n",
       "  <thead>\n",
       "    <tr style=\"text-align: right;\">\n",
       "      <th></th>\n",
       "      <th>Dataset</th>\n",
       "      <th># nodes</th>\n",
       "      <th># edges</th>\n",
       "      <th>SP length</th>\n",
       "      <th>LFP length</th>\n",
       "      <th>LFP/SP length</th>\n",
       "      <th>LFP/SP length (std)</th>\n",
       "      <th>SP different nodes</th>\n",
       "      <th>FP different nodes</th>\n",
       "      <th>FP/SP visited nodes</th>\n",
       "      <th>FP/SP visited nodes (std)</th>\n",
       "    </tr>\n",
       "  </thead>\n",
       "  <tbody>\n",
       "    <tr>\n",
       "      <th>0</th>\n",
       "      <td>Florence, Italy</td>\n",
       "      <td>6096</td>\n",
       "      <td>11737</td>\n",
       "      <td>6909.00000</td>\n",
       "      <td>7287.00000</td>\n",
       "      <td>1.050000</td>\n",
       "      <td>0.050000</td>\n",
       "      <td>75.10</td>\n",
       "      <td>121.27</td>\n",
       "      <td>1.580000</td>\n",
       "      <td>0.650000</td>\n",
       "    </tr>\n",
       "    <tr>\n",
       "      <th>1</th>\n",
       "      <td>Kyoto, Japan</td>\n",
       "      <td>44828</td>\n",
       "      <td>118087</td>\n",
       "      <td>8501.00000</td>\n",
       "      <td>9243.00000</td>\n",
       "      <td>1.090000</td>\n",
       "      <td>0.060000</td>\n",
       "      <td>117.90</td>\n",
       "      <td>536.77</td>\n",
       "      <td>4.160000</td>\n",
       "      <td>2.210000</td>\n",
       "    </tr>\n",
       "    <tr>\n",
       "      <th>2</th>\n",
       "      <td>Essaouira, Morocco</td>\n",
       "      <td>1277</td>\n",
       "      <td>3429</td>\n",
       "      <td>3650.00000</td>\n",
       "      <td>3967.00000</td>\n",
       "      <td>1.130000</td>\n",
       "      <td>0.140000</td>\n",
       "      <td>37.20</td>\n",
       "      <td>107.03</td>\n",
       "      <td>2.520000</td>\n",
       "      <td>1.330000</td>\n",
       "    </tr>\n",
       "    <tr>\n",
       "      <th>3</th>\n",
       "      <td>Piedmont, California, USA</td>\n",
       "      <td>352</td>\n",
       "      <td>937</td>\n",
       "      <td>1860.06996</td>\n",
       "      <td>2060.58421</td>\n",
       "      <td>1.106162</td>\n",
       "      <td>0.113537</td>\n",
       "      <td>19.91</td>\n",
       "      <td>39.48</td>\n",
       "      <td>1.814726</td>\n",
       "      <td>0.662455</td>\n",
       "    </tr>\n",
       "  </tbody>\n",
       "</table>\n",
       "</div>"
      ],
      "text/plain": [
       "                     Dataset  # nodes  # edges   SP length  LFP length  \\\n",
       "0            Florence, Italy     6096    11737  6909.00000  7287.00000   \n",
       "1               Kyoto, Japan    44828   118087  8501.00000  9243.00000   \n",
       "2         Essaouira, Morocco     1277     3429  3650.00000  3967.00000   \n",
       "3  Piedmont, California, USA      352      937  1860.06996  2060.58421   \n",
       "\n",
       "   LFP/SP length  LFP/SP length (std)  SP different nodes  FP different nodes  \\\n",
       "0       1.050000             0.050000               75.10              121.27   \n",
       "1       1.090000             0.060000              117.90              536.77   \n",
       "2       1.130000             0.140000               37.20              107.03   \n",
       "3       1.106162             0.113537               19.91               39.48   \n",
       "\n",
       "   FP/SP visited nodes  FP/SP visited nodes (std)  \n",
       "0             1.580000                   0.650000  \n",
       "1             4.160000                   2.210000  \n",
       "2             2.520000                   1.330000  \n",
       "3             1.814726                   0.662455  "
      ]
     },
     "execution_count": 52,
     "metadata": {},
     "output_type": "execute_result"
    }
   ],
   "source": [
    "columns = [\"Dataset\", \"# nodes\", \"# edges\", \"SP length\", \"LFP length\", \"LFP/SP length\", \"LFP/SP length (std)\", \"SP different nodes\", \n",
    "           \"FP different nodes\", \"FP/SP visited nodes\", \"FP/SP visited nodes (std)\"]\n",
    "\n",
    "df = pd.DataFrame(columns=columns)\n",
    "\n",
    "file_path = 'results/dataset_fp.csv'\n",
    "\n",
    "os.makedirs(os.path.dirname(file_path), exist_ok=True)\n",
    "\n",
    "if not os.path.exists(file_path):\n",
    "    df.to_csv(file_path, index=False)\n",
    "\n",
    "df = pd.read_csv(file_path)\n",
    "df"
   ]
  },
  {
   "cell_type": "code",
   "execution_count": 53,
   "id": "6a6ebd78",
   "metadata": {},
   "outputs": [],
   "source": [
    "def add_dataset_to_dataframe(df, dataset, nodes, edges, sp_length, lfp_length, lfp_sp_length, lfp_sp_length_std, sp_diff_nodes, fp_diff_nodes, fp_sp_visited_nodes, fp_sp_visited_nodes_std):\n",
    "    # Check if the dataset already exists in the DataFrame\n",
    "    if dataset not in df['Dataset'].values:\n",
    "        # Create a new row\n",
    "        new_row = pd.DataFrame({\n",
    "            \"Dataset\": [dataset],\n",
    "            \"# nodes\": [nodes],\n",
    "            \"# edges\": [edges],\n",
    "            \"SP length\": [sp_length],\n",
    "            \"LFP length\": [lfp_length],\n",
    "            \"SP different nodes\": [sp_diff_nodes],\n",
    "            \"FP different nodes\": [fp_diff_nodes],\n",
    "            \"LFP/SP length\": [lfp_sp_length],\n",
    "            \"LFP/SP length (std)\": [lfp_sp_length_std],\n",
    "            \"FP/SP visited nodes\": [fp_sp_visited_nodes],\n",
    "            \"FP/SP visited nodes (std)\": [fp_sp_visited_nodes_std]\n",
    "        })\n",
    "        \n",
    "        # Append the new row to the DataFrame\n",
    "        df = pd.concat([df, new_row], ignore_index=True)\n",
    "        \n",
    "        # Save the updated DataFrame to the CSV file\n",
    "        df.to_csv('results/dataset_fp.csv', index=False)\n",
    "    else:\n",
    "        print(f\"Dataset {dataset} already exists in the DataFrame.\")\n",
    "\n",
    "    return df"
   ]
  },
  {
   "cell_type": "code",
   "execution_count": 54,
   "id": "d519757a",
   "metadata": {},
   "outputs": [
    {
     "name": "stdout",
     "output_type": "stream",
     "text": [
      "unreachable targets: 0\n"
     ]
    }
   ],
   "source": [
    "places = ['Buenos Aires, Argentina']\n",
    "\n",
    "for place in places:\n",
    "    g = ut.get_nx_from_ox(place)\n",
    "    st = ut.sample_st(g,30, seed = 118)\n",
    "    sp_length,sp_nodes = ut.list_shortest_path_nx(g, wgt, st[0], st[1])\n",
    "    lfp_length,lfp_nodes,dag_nodes = ut.list_longest_forward_path(g, wgt, st[0], st[1])\n",
    "    \n",
    "    add_dataset_to_dataframe(df, place, len(g.nodes()), len(g.edges()), \n",
    "                             np.mean(sp_length), np.mean(lfp_length), \n",
    "                             np.mean([x/y for x,y in zip(lfp_length,sp_length)]),\n",
    "                             np.std([x/y for x,y in zip(lfp_length,sp_length)]),\n",
    "                             np.mean(sp_nodes), np.mean(dag_nodes), \n",
    "                             np.mean([x/y for x,y in zip(dag_nodes,sp_nodes)]),\n",
    "                             np.std([x/y for x,y in zip(dag_nodes,sp_nodes)]))"
   ]
  },
  {
   "cell_type": "code",
   "execution_count": 55,
   "id": "ade49068",
   "metadata": {},
   "outputs": [],
   "source": [
    "def round_dataframe_columns(df):\n",
    "    # Round \"SP length\" and \"LFP length\" to the nearest integer\n",
    "    df[\"SP length\"] = df[\"SP length\"].round(0).astype(int)\n",
    "    df[\"LFP length\"] = df[\"LFP length\"].round(0).astype(int)\n",
    "    \n",
    "    # Round columns from \"SP different nodes\" onward to two decimal places\n",
    "    df.iloc[:, 5:] = df.iloc[:, 5:].round(2)\n",
    "    \n",
    "    return df"
   ]
  },
  {
   "cell_type": "code",
   "execution_count": 56,
   "id": "81cf05b0",
   "metadata": {
    "scrolled": true
   },
   "outputs": [
    {
     "data": {
      "text/html": [
       "<div>\n",
       "<style scoped>\n",
       "    .dataframe tbody tr th:only-of-type {\n",
       "        vertical-align: middle;\n",
       "    }\n",
       "\n",
       "    .dataframe tbody tr th {\n",
       "        vertical-align: top;\n",
       "    }\n",
       "\n",
       "    .dataframe thead th {\n",
       "        text-align: right;\n",
       "    }\n",
       "</style>\n",
       "<table border=\"1\" class=\"dataframe\">\n",
       "  <thead>\n",
       "    <tr style=\"text-align: right;\">\n",
       "      <th></th>\n",
       "      <th>Dataset</th>\n",
       "      <th># nodes</th>\n",
       "      <th># edges</th>\n",
       "      <th>SP length</th>\n",
       "      <th>LFP length</th>\n",
       "      <th>LFP/SP length</th>\n",
       "      <th>LFP/SP length (std)</th>\n",
       "      <th>SP different nodes</th>\n",
       "      <th>FP different nodes</th>\n",
       "      <th>FP/SP visited nodes</th>\n",
       "      <th>FP/SP visited nodes (std)</th>\n",
       "    </tr>\n",
       "  </thead>\n",
       "  <tbody>\n",
       "    <tr>\n",
       "      <th>0</th>\n",
       "      <td>Florence, Italy</td>\n",
       "      <td>6096</td>\n",
       "      <td>11737</td>\n",
       "      <td>6909</td>\n",
       "      <td>7287</td>\n",
       "      <td>1.05</td>\n",
       "      <td>0.05</td>\n",
       "      <td>75.10</td>\n",
       "      <td>121.27</td>\n",
       "      <td>1.58</td>\n",
       "      <td>0.65</td>\n",
       "    </tr>\n",
       "    <tr>\n",
       "      <th>1</th>\n",
       "      <td>Kyoto, Japan</td>\n",
       "      <td>44828</td>\n",
       "      <td>118087</td>\n",
       "      <td>8501</td>\n",
       "      <td>9243</td>\n",
       "      <td>1.09</td>\n",
       "      <td>0.06</td>\n",
       "      <td>117.90</td>\n",
       "      <td>536.77</td>\n",
       "      <td>4.16</td>\n",
       "      <td>2.21</td>\n",
       "    </tr>\n",
       "    <tr>\n",
       "      <th>2</th>\n",
       "      <td>Essaouira, Morocco</td>\n",
       "      <td>1277</td>\n",
       "      <td>3429</td>\n",
       "      <td>3650</td>\n",
       "      <td>3967</td>\n",
       "      <td>1.13</td>\n",
       "      <td>0.14</td>\n",
       "      <td>37.20</td>\n",
       "      <td>107.03</td>\n",
       "      <td>2.52</td>\n",
       "      <td>1.33</td>\n",
       "    </tr>\n",
       "    <tr>\n",
       "      <th>3</th>\n",
       "      <td>Piedmont, California, USA</td>\n",
       "      <td>352</td>\n",
       "      <td>937</td>\n",
       "      <td>1860</td>\n",
       "      <td>2061</td>\n",
       "      <td>1.11</td>\n",
       "      <td>0.11</td>\n",
       "      <td>19.91</td>\n",
       "      <td>39.48</td>\n",
       "      <td>1.81</td>\n",
       "      <td>0.66</td>\n",
       "    </tr>\n",
       "    <tr>\n",
       "      <th>4</th>\n",
       "      <td>Buenos Aires, Argentina</td>\n",
       "      <td>17890</td>\n",
       "      <td>37474</td>\n",
       "      <td>9065</td>\n",
       "      <td>9642</td>\n",
       "      <td>1.06</td>\n",
       "      <td>0.04</td>\n",
       "      <td>89.10</td>\n",
       "      <td>387.50</td>\n",
       "      <td>4.00</td>\n",
       "      <td>2.12</td>\n",
       "    </tr>\n",
       "  </tbody>\n",
       "</table>\n",
       "</div>"
      ],
      "text/plain": [
       "                     Dataset  # nodes  # edges  SP length  LFP length  \\\n",
       "0            Florence, Italy     6096    11737       6909        7287   \n",
       "1               Kyoto, Japan    44828   118087       8501        9243   \n",
       "2         Essaouira, Morocco     1277     3429       3650        3967   \n",
       "3  Piedmont, California, USA      352      937       1860        2061   \n",
       "4    Buenos Aires, Argentina    17890    37474       9065        9642   \n",
       "\n",
       "   LFP/SP length  LFP/SP length (std)  SP different nodes  FP different nodes  \\\n",
       "0           1.05                 0.05               75.10              121.27   \n",
       "1           1.09                 0.06              117.90              536.77   \n",
       "2           1.13                 0.14               37.20              107.03   \n",
       "3           1.11                 0.11               19.91               39.48   \n",
       "4           1.06                 0.04               89.10              387.50   \n",
       "\n",
       "   FP/SP visited nodes  FP/SP visited nodes (std)  \n",
       "0                 1.58                       0.65  \n",
       "1                 4.16                       2.21  \n",
       "2                 2.52                       1.33  \n",
       "3                 1.81                       0.66  \n",
       "4                 4.00                       2.12  "
      ]
     },
     "execution_count": 56,
     "metadata": {},
     "output_type": "execute_result"
    }
   ],
   "source": [
    "df = pd.read_csv(file_path)\n",
    "round_dataframe_columns(df)"
   ]
  },
  {
   "cell_type": "code",
   "execution_count": null,
   "id": "e5699e0a",
   "metadata": {},
   "outputs": [],
   "source": []
  },
  {
   "cell_type": "code",
   "execution_count": null,
   "id": "8ec76161",
   "metadata": {},
   "outputs": [],
   "source": []
  },
  {
   "cell_type": "code",
   "execution_count": null,
   "id": "f7a2bb1a",
   "metadata": {},
   "outputs": [],
   "source": []
  }
 ],
 "metadata": {
  "kernelspec": {
   "display_name": "Python 3 (ipykernel)",
   "language": "python",
   "name": "python3"
  },
  "language_info": {
   "codemirror_mode": {
    "name": "ipython",
    "version": 3
   },
   "file_extension": ".py",
   "mimetype": "text/x-python",
   "name": "python",
   "nbconvert_exporter": "python",
   "pygments_lexer": "ipython3",
   "version": "3.11.5"
  }
 },
 "nbformat": 4,
 "nbformat_minor": 5
}
