{
 "cells": [
  {
   "cell_type": "code",
   "execution_count": 10,
   "id": "15656584",
   "metadata": {},
   "outputs": [],
   "source": [
    "import os\n",
    "import subprocess\n",
    "\n",
    "# Set the path to the folder containing the executable and input file\n",
    "folder_path = \"/Users/antonioferrara/Desktop/GitHub/Maxmin-Fair-Paths/kspwlo-master/\"\n",
    "\n",
    "# Change the current working directory to the specified folder\n",
    "os.chdir(folder_path)\n",
    "\n",
    "\n"
   ]
  },
  {
   "cell_type": "code",
   "execution_count": 22,
   "id": "7766bbe7",
   "metadata": {},
   "outputs": [
    {
     "name": "stdout",
     "output_type": "stream",
     "text": [
      "New source code: 0\n",
      "New target code: 2\n"
     ]
    }
   ],
   "source": [
    "def save_graph_to_gr(G, filename, source, target):\n",
    "    # Ensure the graph is directed\n",
    "    if not G.is_directed():\n",
    "        raise ValueError(\"The graph must be directed\")\n",
    "    \n",
    "    # Create a mapping from original node IDs to new IDs starting from 0\n",
    "    node_mapping = {node: i for i, node in enumerate(G.nodes())}\n",
    "    \n",
    "    # Get the number of nodes and edges\n",
    "    num_nodes = len(node_mapping)\n",
    "    \n",
    "    # Prepare the data to be written\n",
    "    data = []\n",
    "    data.append(\"d\")\n",
    "    \n",
    "    edges_data = []\n",
    "    for u, v, attrs in G.edges(data=True):\n",
    "        if 'length' in attrs:\n",
    "            length = attrs['length']\n",
    "            new_u = node_mapping[u]\n",
    "            new_v = node_mapping[v]\n",
    "            edges_data.append(f\"{new_u} {new_v} {length} 0\")\n",
    "    \n",
    "    num_edges = len(edges_data)\n",
    "    data.append(f\"{num_nodes} {num_edges}\")\n",
    "    \n",
    "    # Add edge information\n",
    "    data.extend(edges_data)\n",
    "    \n",
    "    # Join the data into a single string with newlines\n",
    "    data_str = \"\\n\".join(data) + \"\\n\"\n",
    "    \n",
    "    # Write to .gr file in text mode\n",
    "    with open(filename, 'w') as file:\n",
    "        file.write(data_str)\n",
    "    \n",
    "    # Print the new codes for source and target\n",
    "    new_source = node_mapping.get(source, \"Source node not found in the graph\")\n",
    "    new_target = node_mapping.get(target, \"Target node not found in the graph\")\n",
    "    \n",
    "    print(f\"New source code: {new_source}\")\n",
    "    print(f\"New target code: {new_target}\")\n",
    "\n",
    "# Example usage:\n",
    "# Assume `g` is your graph and you want to save it as 'piedmont_kspwlo.gr'\n",
    "# with source node 2 and target node 5.\n",
    "G = nx.DiGraph()\n",
    "G.add_edge(1, 2, length=3)\n",
    "G.add_edge(2, 3, length=4)\n",
    "G.add_edge(3, 1, length=2)\n",
    "save_graph_to_gr(G, 'prova1.gr', source=1, target=3)\n"
   ]
  },
  {
   "cell_type": "code",
   "execution_count": 23,
   "id": "3dd705be",
   "metadata": {},
   "outputs": [
    {
     "name": "stdout",
     "output_type": "stream",
     "text": [
      "[LOG] Network: prova1.gr\n",
      "[LOG] Source node: 0\n",
      "[LOG] Target node: 2\n",
      "[LOG] Number of paths k: 1\n",
      "[LOG] Similarity threshold theta: 0.5\n",
      "[LOG] Algorithm: op\n",
      "0\t2\t[(0,1,2)]\n"
     ]
    }
   ],
   "source": [
    "%%bash\n",
    "./run.exec -f prova1.gr -k 1 -t 0.5 -s 0 -d 2 -a op"
   ]
  },
  {
   "cell_type": "code",
   "execution_count": 9,
   "id": "00b2afa9",
   "metadata": {},
   "outputs": [
    {
     "name": "stdout",
     "output_type": "stream",
     "text": [
      "Output:\n",
      "[LOG] Network: sample/sample.gr\n",
      "[LOG] Source node: 0\n",
      "[LOG] Target node: 18\n",
      "[LOG] Number of paths k: 2\n",
      "[LOG] Similarity threshold theta: 0.5\n",
      "[LOG] Algorithm: op\n",
      "0\t18\t[(0,4,8,10,18),(0,4,8,13,18)]\n",
      "\n"
     ]
    }
   ],
   "source": [
    "def execute_bash_command(file_path, k_value, t_value, s_value, d_value, a_value):\n",
    "    # Construct the bash command using the provided parameters\n",
    "    bash_command = f\"./run.exec -f {file_path} -k {k_value} -t {t_value} -s {s_value} -d {d_value} -a {a_value}\"\n",
    "\n",
    "    try:\n",
    "        # Execute the command and capture the output\n",
    "        result = subprocess.run(bash_command, shell=True, check=True, stdout=subprocess.PIPE, stderr=subprocess.PIPE)\n",
    "\n",
    "        # Check if the command was successful\n",
    "        if result.returncode == 0:\n",
    "            # Decode the output from bytes to string\n",
    "            output = result.stdout.decode('utf-8')\n",
    "            return output  # Return the output\n",
    "        else:\n",
    "            # Return the error message if the command failed\n",
    "            return f\"Error executing the command:\\n{result.stderr.decode('utf-8')}\"\n",
    "    \n",
    "    except subprocess.CalledProcessError as e:\n",
    "        # Return the error message if the command raised an exception\n",
    "        return f\"Command '{bash_command}' returned non-zero exit status {e.returncode}. Error:\\n{e.stderr.decode('utf-8')}\"\n",
    "\n",
    "# Example usage:\n",
    "file_path = \"sample/sample.gr\"\n",
    "k_value = 2\n",
    "t_value = 0.5\n",
    "s_value = 0\n",
    "d_value = 18\n",
    "a_value = \"op\"\n",
    "\n",
    "# Call the function\n",
    "output = execute_bash_command(file_path, k_value, t_value, s_value, d_value, a_value)\n",
    "print(\"Output:\")\n",
    "print(output)\n"
   ]
  },
  {
   "cell_type": "code",
   "execution_count": null,
   "id": "0913e3ce",
   "metadata": {},
   "outputs": [],
   "source": []
  },
  {
   "cell_type": "code",
   "execution_count": null,
   "id": "25d1c769",
   "metadata": {},
   "outputs": [],
   "source": []
  }
 ],
 "metadata": {
  "kernelspec": {
   "display_name": "Python 3 (ipykernel)",
   "language": "python",
   "name": "python3"
  },
  "language_info": {
   "codemirror_mode": {
    "name": "ipython",
    "version": 3
   },
   "file_extension": ".py",
   "mimetype": "text/x-python",
   "name": "python",
   "nbconvert_exporter": "python",
   "pygments_lexer": "ipython3",
   "version": "3.11.5"
  }
 },
 "nbformat": 4,
 "nbformat_minor": 5
}
