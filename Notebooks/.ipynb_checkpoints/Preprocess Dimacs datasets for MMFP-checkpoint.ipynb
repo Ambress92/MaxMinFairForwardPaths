{
 "cells": [
  {
   "cell_type": "code",
   "execution_count": 2,
   "id": "7e3e5237-7ed5-4b8c-ba49-ab0066d3ed25",
   "metadata": {},
   "outputs": [
    {
     "name": "stdout",
     "output_type": "stream",
     "text": [
      "Number of nodes: 1070376\n",
      "Number of edges: 2712798\n"
     ]
    }
   ],
   "source": [
    "import graph_tool as gt\n",
    "import numpy as np\n",
    "import networkx as nx\n",
    "import sys\n",
    "import os\n",
    "import pickle\n",
    "import re\n",
    "\n",
    "\n",
    "\n",
    "def load_graph_from_file(filename):\n",
    "    graph = gt.Graph(directed=True)\n",
    "    weight_prop = graph.new_edge_property(\"double\")\n",
    "\n",
    "    # Dictionary to store mapping from node IDs to graph vertex objects\n",
    "    node_mapping = {}\n",
    "\n",
    "    with open(filename, 'r') as file:\n",
    "        for line in file:\n",
    "            parts = line.strip().split()\n",
    "\n",
    "            if parts[0] == 'p':\n",
    "                # Parse the number of nodes and arcs\n",
    "                num_nodes = int(parts[2])\n",
    "                num_arcs = int(parts[3])\n",
    "            elif parts[0] == 'a':\n",
    "                # Parse the arc information\n",
    "                source = int(parts[1]) - 1  # Subtract 1 to make it zero-indexed\n",
    "                target = int(parts[2]) - 1\n",
    "                weight = np.double(parts[3])\n",
    "\n",
    "                # Add vertices and edge to the graph\n",
    "                if source not in node_mapping:\n",
    "                    node_mapping[source] = graph.add_vertex()\n",
    "                if target not in node_mapping:\n",
    "                    node_mapping[target] = graph.add_vertex()\n",
    "\n",
    "                edge = graph.add_edge(node_mapping[source], node_mapping[target])\n",
    "                weight_prop[edge] = weight\n",
    "    \n",
    "    graph.edge_properties[\"weight\"] = weight_prop\n",
    "    return graph\n",
    "\n",
    "# Load the graph from file\n",
    "filename = '../Datasets/USA-road-d.FLA.gr' ###path to the dataset\n",
    "place = 'Florida'   ### write here the name of the dataset\n",
    "g_gt = load_graph_from_file(filename)\n",
    "\n",
    "print(\"Number of nodes:\", g_gt.num_vertices())\n",
    "print(\"Number of edges:\", g_gt.num_edges())\n"
   ]
  },
  {
   "cell_type": "code",
   "execution_count": 4,
   "id": "9c337ac0",
   "metadata": {},
   "outputs": [
    {
     "data": {
      "text/plain": [
       "{'weight': <EdgePropertyMap object with value type 'double', for Graph 0x105e1a150, at 0x105e40c50>}"
      ]
     },
     "execution_count": 4,
     "metadata": {},
     "output_type": "execute_result"
    }
   ],
   "source": [
    "g_gt.edge_properties"
   ]
  },
  {
   "cell_type": "code",
   "execution_count": 6,
   "id": "44155654",
   "metadata": {},
   "outputs": [],
   "source": [
    "#edge weight will be converted into 'length'\n",
    "def from_gt_to_nx(g, wgt = \"weight\"):\n",
    "    g_nx = nx.DiGraph()\n",
    "    \n",
    "    for v in g.vertices():\n",
    "        g_nx.add_node(int(v))\n",
    "    \n",
    "    for e in g.edges():\n",
    "        source = int(e.source())\n",
    "        target = int(e.target())\n",
    "        weight = g.ep[wgt][e]  \n",
    "        g_nx.add_edge(source, target, length=weight)\n",
    "        #g_nx.add_edge(target, source, length=weight) #if undirected graph ------------\n",
    "    return(g_nx)"
   ]
  },
  {
   "cell_type": "code",
   "execution_count": 7,
   "id": "1416526c",
   "metadata": {},
   "outputs": [],
   "source": [
    "g = from_gt_to_nx(g_gt, wgt = \"weight\") "
   ]
  },
  {
   "cell_type": "code",
   "execution_count": 9,
   "id": "46e03996",
   "metadata": {},
   "outputs": [],
   "source": [
    "name = re.sub(r'[^\\w\\-_.]', '_', place)\n",
    "filename = f'{name}.pkl'\n",
    "\n",
    "filepath = os.path.join('../Datasets', filename)\n",
    "\n",
    "# Save the graph\n",
    "with open(filepath, 'wb') as f:\n",
    "    pickle.dump(g, f)"
   ]
  },
  {
   "cell_type": "code",
   "execution_count": null,
   "id": "8cf64cb8",
   "metadata": {},
   "outputs": [],
   "source": []
  }
 ],
 "metadata": {
  "kernelspec": {
   "display_name": "Python 3 (ipykernel)",
   "language": "python",
   "name": "python3"
  },
  "language_info": {
   "codemirror_mode": {
    "name": "ipython",
    "version": 3
   },
   "file_extension": ".py",
   "mimetype": "text/x-python",
   "name": "python",
   "nbconvert_exporter": "python",
   "pygments_lexer": "ipython3",
   "version": "3.11.5"
  }
 },
 "nbformat": 4,
 "nbformat_minor": 5
}
